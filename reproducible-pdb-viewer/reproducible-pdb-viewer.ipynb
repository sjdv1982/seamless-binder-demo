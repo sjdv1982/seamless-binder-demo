{
 "cells": [
  {
   "cell_type": "markdown",
   "metadata": {},
   "source": [
    "# Reproducible PDB viewer (BinderHub version)\n",
    "\n",
    "The Protein Data Bank (PDB) contains more than a hundred thousand three-dimensional atomic structures of proteins, peptides and nucleic acids. There are three main portals: in the USA (https://rcsb.org), Europe (https://www.ebi.ac.uk/pdbe/) and Japan (https://pdbj.org/).\n",
    "\n",
    "PDB entries are defined by one digit + three letters, e.g. \"1avx\" for the trypsin protein in complex with its inhibitor. This always refers to the latest version of the atomic structure.\n",
    "\n",
    "This means downloading a PDB entry is non-reproducible, i.e. the entry may have changed when you repeat the download later in time. The PDB does maintain a versioned repository, but only major changes are stored there.\n",
    "\n",
    "At the RPBS, reproducible distributions of the PDB are maintained. Once in a while, all changed entries of the PDB are downloaded and their checksums computed, creating a time-specific distribution. Distributions are maintained at the RPBS FAIR server, https://fair.rpbs.univ-paris-diderot.fr. For each distribution, an index file can be downloaded containing all PDB entries and their checksums. These index files can be wrapped inside a Seamless DeepCell for convenience.\n",
    "\n",
    "The current notebook sets up a molecular web viewer for a reproducible PDB distribution. Then, the user can select a PDB entry among the ~200 000 entries and the corresponding molecular structure will be shown. It is guaranteed to show the same structure even if the PDB entry undergoes later change.\n",
    "\n",
    "The RPBS also maintains a last-resort buffer server at https://buffer.rpbs.univ-paris-diderot.fr . This buffer server includes the PDB entries."
   ]
  },
  {
   "cell_type": "code",
   "execution_count": null,
   "metadata": {},
   "outputs": [],
   "source": [
    "# Set up the RPBS buffer server as a fallback\n",
    "import seamless\n",
    "seamless.delegate(level=1)\n",
    "seamless.config.add_buffer_server(\"https://buffer.rpbs.univ-paris-diderot.fr\")"
   ]
  },
  {
   "cell_type": "markdown",
   "metadata": {},
   "source": [
    "### Create a new Seamless project\n",
    "\n",
    "This will set up the Seamless web page generator. For the rest, the project is empty.\n",
    "\n",
    "(If Seamless is installed locally, you would use the `seamless-new-project` command instead)"
   ]
  },
  {
   "cell_type": "code",
   "execution_count": null,
   "metadata": {
    "tags": []
   },
   "outputs": [],
   "source": [
    "import os\n",
    "if not os.path.exists(\"web/\"):\n",
    "    os.system(\"python3 ~/seamless-scripts/new-project.py rpdb-viewer\")\n",
    "    # move customized web form\n",
    "    os.system(\"mv -f webform.json web/\")\n",
    "else:\n",
    "    # To avoid merge conflicts, remove all existing customized web content\n",
    "    os.system(\"rm -f web/index.html web/index.js web/*CONFLICT.*\")\n",
    "\n",
    "# new-project.py will generate a default Notebook for the project. Link it to the current notebook instead\n",
    "os.system(\"rm -f rpdb-viewer.ipynb\")\n",
    "os.system(\"ln -s reproducible-pdb-viewer.ipynb rpdb-viewer.ipynb\")\n",
    "\n"
   ]
  },
  {
   "cell_type": "code",
   "execution_count": null,
   "metadata": {
    "tags": []
   },
   "outputs": [],
   "source": [
    "%run -i load-project.py\n",
    "await load()"
   ]
  },
  {
   "cell_type": "markdown",
   "metadata": {},
   "source": [
    "## Defining the reproducible PDB distribution\n",
    "\n",
    "First, we need to define the reproducible PDB distribution. At the RPBS, there is the ***FAIR server*** where you can specify human-level metadata, such as the name of the dataset, the date, the version and/or the format. It returns the checksum of the distribution, the checksum of the ordered entries (keys), and some metadata:"
   ]
  },
  {
   "cell_type": "code",
   "execution_count": null,
   "metadata": {},
   "outputs": [],
   "source": [
    "!curl 'https://fair.rpbs.univ-paris-diderot.fr/machine/find_distribution?dataset=pdb&date=2022-11-27&type=deepcell'"
   ]
  },
  {
   "cell_type": "markdown",
   "metadata": {},
   "source": [
    "### Seamless API\n",
    "Seamless has an API where the FAIR server is contacted and the result is stored in a deep cell:"
   ]
  },
  {
   "cell_type": "code",
   "execution_count": null,
   "metadata": {},
   "outputs": [],
   "source": [
    "seamless.fair.add_server(\"https://fair.rpbs.univ-paris-diderot.fr\")\n",
    "\n",
    "from seamless.highlevel import DeepCell\n",
    "import json\n",
    "\n",
    "date = \"2022-11-27\"\n",
    "distribution = DeepCell.find_distribution(\"pdb\", date=date, format=\"mmcif\")\n",
    "print(json.dumps(distribution, indent=2))\n",
    "\n",
    "ctx.pdb = DeepCell()\n",
    "ctx.pdb.define(distribution)"
   ]
  },
  {
   "cell_type": "code",
   "execution_count": null,
   "metadata": {},
   "outputs": [],
   "source": [
    "print(\"PDB date:\", date)\n",
    "print(\"Number of index keys (PDB entries): \", ctx.pdb.nkeys )\n",
    "pdb_index_size = \"{:d} MiB\".format(int(ctx.pdb.index_size/10**6))\n",
    "print(\"Size of the checksum index file: \", pdb_index_size )\n",
    "if ctx.pdb.content_size is None:\n",
    "    pdb_size = \"<Unknown>\"\n",
    "else:\n",
    "    pdb_size = \"{:d} GiB\".format(int(ctx.pdb.content_size/10**9))\n",
    "print(\"Total size of the Protein Data Bank (mmCIF format):\", pdb_size )"
   ]
  },
  {
   "cell_type": "markdown",
   "metadata": {},
   "source": [
    "### Strong reproducibility\n",
    "\n",
    "Saving the workflow with `save` or `ctx.save_graph` will lead to strong reproducibility, since it stores the distribution checksums directly.\n",
    "\n",
    "If you need strongly reproducible *notebook code*, you can embed the distribution checksums inside the code:\n",
    "\n",
    "```python\n",
    "ctx.pdb.define({\n",
    "    \"checksum\": \"57ce3e4487745320f68fa84e2e4cb4c431953b204812cf1f76bb011f032d6380\",\n",
    "    \"keyorder\": \"8fe126582cd6933150d79027927393a86d8426669e48fc39a911c9f895f00e2e\",\n",
    "})\n",
    "```"
   ]
  },
  {
   "cell_type": "code",
   "execution_count": null,
   "metadata": {},
   "outputs": [],
   "source": [
    "print(\"Download checksum index file...\")\n",
    "await ctx.computation()\n",
    "print(\"Done\")"
   ]
  },
  {
   "cell_type": "markdown",
   "metadata": {},
   "source": [
    "## Accessing individual PDB entries\n",
    "\n",
    "You can now get the checksum of each individual PDB entry."
   ]
  },
  {
   "cell_type": "code",
   "execution_count": null,
   "metadata": {},
   "outputs": [],
   "source": [
    "print(ctx.pdb.data[\"1avx\"])"
   ]
  },
  {
   "cell_type": "markdown",
   "metadata": {},
   "source": [
    "In addition, the FAIR server maintains, for each checksum, a list of URLs where the data can be downloaded. \n",
    "\n",
    "There is no guarantee that the URL will yield the correct data, but because the checksum is known in advance, the download can be verified."
   ]
  },
  {
   "cell_type": "code",
   "execution_count": null,
   "metadata": {},
   "outputs": [],
   "source": [
    "!curl https://fair.rpbs.univ-paris-diderot.fr/machine/access/2b0eeeac3bd3ba8d6e67aa262d9d2279dc672607af7a80414df10da1cb4f9cc2"
   ]
  },
  {
   "cell_type": "markdown",
   "metadata": {},
   "source": [
    "### Seamless API\n",
    "Seamless has an API `DeepCell.access(entry)` where: \n",
    "\n",
    "- The FAIR server is contacted with the entry's checksum, obtaining the above list of URLs.\n",
    "- Using the list of URLs, the molecular structure is downloaded\n",
    "- The downloaded structure is verified against the checksum"
   ]
  },
  {
   "cell_type": "code",
   "execution_count": null,
   "metadata": {},
   "outputs": [],
   "source": [
    "print(\"Access PDB entry 1avx\")\n",
    "pdb_data = ctx.pdb.access(\"1avx\")\n",
    "print(pdb_data[:500] + \"\\n...\")"
   ]
  },
  {
   "cell_type": "markdown",
   "metadata": {},
   "source": [
    "## PDB workflow\n",
    "\n",
    "The code below defines a workflow where the entry is defined in `ctx.pdb_code`, and the corresponding molecular structure is then stored (as text) in `ctx.pdb_structure`.\n",
    "\n",
    "We can manipulate the entry and structure with a little Jupyter dashboard."
   ]
  },
  {
   "cell_type": "code",
   "execution_count": null,
   "metadata": {},
   "outputs": [],
   "source": [
    "from seamless.highlevel import stdlib\n",
    "\n",
    "ctx.all_pdb_codes = Cell(\"plain\")\n",
    "await ctx.translation()\n",
    "ctx.all_pdb_codes.set_checksum(ctx.pdb.keyorder_checksum)\n",
    "\n",
    "ctx.pdb_code = Cell(\"str\").set(\"1avx\")\n",
    "\n",
    "ctx.include(stdlib.select)\n",
    "ctx.pdb_structure = Cell(\"text\")\n",
    "ctx.select_pdb = ctx.lib.select(\n",
    "    celltype=\"text\",\n",
    "    input=ctx.pdb,\n",
    "    selected=ctx.pdb_code,\n",
    "    output=ctx.pdb_structure,\n",
    ")"
   ]
  },
  {
   "cell_type": "code",
   "execution_count": null,
   "metadata": {},
   "outputs": [],
   "source": [
    "from IPython.display import display\n",
    "from ipywidgets import Text, Textarea\n",
    "\n",
    "w = Text()\n",
    "ctx.pdb_code.traitlet().link(w)\n",
    "display(w)\n",
    "w = Textarea()\n",
    "ctx.pdb_structure.traitlet().connect(w)\n",
    "display(w)\n",
    "await ctx.computation()\n"
   ]
  },
  {
   "cell_type": "markdown",
   "metadata": {},
   "source": [
    "## PDB web visualization\n",
    "\n",
    "The final step is to define a web page where a PDB code is selected and the corresponding molecular structure is visualized.\n",
    "\n",
    "For this purpose, the Seamless web page generator contains the \"bigselect\" and \"nglviewer\" webunits. See their documentation below."
   ]
  },
  {
   "cell_type": "code",
   "execution_count": null,
   "metadata": {},
   "outputs": [],
   "source": [
    "from seamless.highlevel import webunits\n",
    "webunits.bigselect?"
   ]
  },
  {
   "cell_type": "code",
   "execution_count": null,
   "metadata": {},
   "outputs": [],
   "source": [
    "webunits.nglviewer?"
   ]
  },
  {
   "cell_type": "code",
   "execution_count": null,
   "metadata": {},
   "outputs": [],
   "source": [
    "# Define the PDB viewer.\n",
    "\n",
    "# 1. Web selector (with tab completion) of PDB code \n",
    "webunits.bigselect(ctx, options=ctx.all_pdb_codes, selected=ctx.pdb_code)\n",
    "\n",
    "# 2. Define molecular representation (defined in representation.yaml)\n",
    "ctx.representation = Cell(\"yaml\").share(readonly=False)\n",
    "ctx.representation.mount(\"representation.yaml\")\n",
    "ctx.representation2 = Cell(\"plain\")\n",
    "ctx.representation2 = ctx.representation\n",
    "\n",
    "# 3. Molecular visualization based on the NGL web viewer\n",
    "webunits.nglviewer(ctx, ctx.pdb_structure, ctx.representation2, format=\"cif\")\n",
    "\n",
    "await ctx.computation()"
   ]
  },
  {
   "cell_type": "markdown",
   "metadata": {},
   "source": [
    "### BinderHub only: unify the Seamless ports\n",
    "(This allows us to serve Seamless HTTP cells and the Seamless web interface through JupyterLab, because we can't access localhost)"
   ]
  },
  {
   "cell_type": "code",
   "execution_count": null,
   "metadata": {
    "tags": []
   },
   "outputs": [],
   "source": [
    "cmd = \"seamless-unify-webserver-ports\"  # this will reverse proxy from port 5388\n",
    "get_ipython().run_cell_magic('script', 'bash --bg --out unify-webserver-ports.log', cmd)"
   ]
  },
  {
   "cell_type": "code",
   "execution_count": null,
   "metadata": {
    "tags": []
   },
   "outputs": [],
   "source": [
    "%%javascript\n",
    "let base = window.location.protocol + \"//\" + window.location.hostname\n",
    "if (window.location.port != 80) {\n",
    "    base = base + \":\" + window.location.port\n",
    "}\n",
    "let v = window.location.pathname\n",
    "let vv = v.split(\"/\")\n",
    "for (let i = 1; i < vv.length - 1; i++) {\n",
    "    if ((vv[i] == \"lab\" || vv[i] == \"doc\") && (vv[i+1] == \"tree\" || vv[i+3] == \"tree\")) {\n",
    "        window.JUPYTERLAB_URL = base + vv.slice(0, i).join(\"/\") + \"/proxy/5388\" \n",
    "        break\n",
    "    }\n",
    "}\n"
   ]
  },
  {
   "cell_type": "markdown",
   "metadata": {},
   "source": [
    "## PDB viewer"
   ]
  },
  {
   "cell_type": "code",
   "execution_count": null,
   "metadata": {},
   "outputs": [],
   "source": [
    "%%javascript\n",
    "var ele = document.createElement(\"div\")\n",
    "element.append(ele)\n",
    "ele.innerHTML = \"<b><a href=\\\"\" + window.JUPYTERLAB_URL  + \"/status/index.html\\\" target=\\\"_blank\\\"> The PDB viewer can now be opened by clicking here</a></b>\"\n"
   ]
  },
  {
   "cell_type": "markdown",
   "metadata": {},
   "source": [
    "The web page has been lightly customized by editing `web/webform.json`. Compare with `web/webform-AUTOGEN.json` to observe the modifications."
   ]
  }
 ],
 "metadata": {
  "kernelspec": {
   "display_name": "Python 3 (ipykernel)",
   "language": "python",
   "name": "python3"
  },
  "language_info": {
   "codemirror_mode": {
    "name": "ipython",
    "version": 3
   },
   "file_extension": ".py",
   "mimetype": "text/x-python",
   "name": "python",
   "nbconvert_exporter": "python",
   "pygments_lexer": "ipython3",
   "version": "3.10.14"
  },
  "vscode": {
   "interpreter": {
    "hash": "17f8d248d6efc18282cf3c6a0e5a6fdcc0847bcc7415b5e1dcd1255574b2686d"
   }
  }
 },
 "nbformat": 4,
 "nbformat_minor": 4
}
