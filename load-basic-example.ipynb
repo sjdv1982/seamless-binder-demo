{
 "cells": [
  {
   "cell_type": "markdown",
   "id": "63d2c1a9-020d-4077-8590-d8bc00273862",
   "metadata": {},
   "source": [
    "### 1. Load state from graph. First shut down other Seamless notebooks."
   ]
  },
  {
   "cell_type": "code",
   "execution_count": 1,
   "id": "689294b3-e005-4072-be2d-bb51e1ad4698",
   "metadata": {},
   "outputs": [
    {
     "name": "stdout",
     "output_type": "stream",
     "text": [
      "Opened the seamless share update server at port 5138\n",
      "Opened the seamless REST server at port 5813\n"
     ]
    },
    {
     "data": {
      "text/plain": [
       "35"
      ]
     },
     "execution_count": 1,
     "metadata": {},
     "output_type": "execute_result"
    }
   ],
   "source": [
    "import seamless\n",
    "seamless.delegate(False)\n",
    "\n",
    "from seamless.workflow import load_graph\n",
    "ctx = load_graph(\n",
    "    \"basic-example.seamless\", \n",
    "    zip=\"basic-example.zip\"\n",
    ")\n",
    "await ctx.computation()\n",
    "ctx.c.value"
   ]
  },
  {
   "cell_type": "markdown",
   "id": "946bcf7b-bb2e-4c76-84d0-654346914c4c",
   "metadata": {},
   "source": [
    "### 2. Display the shared cell in the browser\n",
    "**Run the two collapsed cells below**\n"
   ]
  },
  {
   "cell_type": "code",
   "execution_count": 2,
   "id": "7c02b57f-cd4e-4488-81f8-fd0122f488ce",
   "metadata": {
    "jupyter": {
     "source_hidden": true
    },
    "tags": []
   },
   "outputs": [],
   "source": [
    "from seamless.workflow.shareserver import shareserver\n",
    "if (shareserver.rest_port, shareserver.update_port) != (5813, 5138):\n",
    "    print(\"\"\"WARNING: a different instance of Seamless is already running. \n",
    "The URL below will NOT work \"\"\")"
   ]
  },
  {
   "cell_type": "code",
   "execution_count": 3,
   "id": "46a15335-e52e-403d-9607-27a3045cf006",
   "metadata": {
    "jupyter": {
     "source_hidden": true
    },
    "tags": []
   },
   "outputs": [
    {
     "data": {
      "application/javascript": "\nlet base = window.location.protocol + \"//\" + window.location.hostname\nlet v = window.location.pathname\nlet vv = v.split(\"/\")\nfor (let i = 1; i < vv.length - 1; i++) {\n    if (vv[i] == \"lab\" && vv[i+1] == \"tree\") {\n        var url = base + vv.slice(0, i).join(\"/\") + \"/proxy/5813/ctx/c\" \n        break\n    }\n}\n\nlet ele = document.createElement(\"div\")\nelement.append(ele)\nele.innerHTML = \"<b><a href=\\\"\" + url  + \"\\\" target=\\\"_blank\\\"> Click here to display cell ctx.c in a new tab </a></b>\"\n",
      "text/plain": [
       "<IPython.core.display.Javascript object>"
      ]
     },
     "metadata": {},
     "output_type": "display_data"
    }
   ],
   "source": [
    "%%javascript\n",
    "\n",
    "let base = window.location.protocol + \"//\" + window.location.hostname\n",
    "let v = window.location.pathname\n",
    "let vv = v.split(\"/\")\n",
    "for (let i = 1; i < vv.length - 1; i++) {\n",
    "    if ((vv[i] == \"lab\" || vv[i] == \"doc\") && (vv[i+1] == \"tree\" || vv[i+3] == \"tree\")) {\n",
    "        var url = base + vv.slice(0, i).join(\"/\") + \"/proxy/5813/ctx/c\" \n",
    "        break\n",
    "    }\n",
    "}\n",
    "\n",
    "let ele = document.createElement(\"div\")\n",
    "element.append(ele)\n",
    "ele.innerHTML = \"<b><a href=\\\"\" + url  + \"\\\" target=\\\"_blank\\\"> Click here to display cell ctx.c in a new tab </a></b>\"\n"
   ]
  },
  {
   "cell_type": "markdown",
   "id": "0114334e-5cfc-41b4-bb66-f55afae64411",
   "metadata": {},
   "source": [
    "### 3. Control cells from Jupyter"
   ]
  },
  {
   "cell_type": "code",
   "execution_count": 4,
   "id": "af8972c8-0e26-4c2a-bd50-721d44bbebea",
   "metadata": {},
   "outputs": [
    {
     "data": {
      "application/vnd.jupyter.widget-view+json": {
       "model_id": "804a777defce4eeb9f29145092d65a64",
       "version_major": 2,
       "version_minor": 0
      },
      "text/plain": [
       "IntSlider(value=15, max=30, min=-10)"
      ]
     },
     "metadata": {},
     "output_type": "display_data"
    },
    {
     "data": {
      "application/vnd.jupyter.widget-view+json": {
       "model_id": "5bfc5b288f9444578426c8c04b3d904f",
       "version_major": 2,
       "version_minor": 0
      },
      "text/plain": [
       "IntSlider(value=20, max=30, min=-10)"
      ]
     },
     "metadata": {},
     "output_type": "display_data"
    },
    {
     "data": {
      "application/vnd.jupyter.widget-view+json": {
       "model_id": "987e631a878945e8b99d4369a4c3b8e6",
       "version_major": 2,
       "version_minor": 0
      },
      "text/plain": [
       "Output(outputs=({'output_type': 'display_data', 'data': {'text/plain': '35'}, 'metadata': {}},))"
      ]
     },
     "metadata": {},
     "output_type": "display_data"
    }
   ],
   "source": [
    "from ipywidgets import IntSlider, IntText\n",
    "\n",
    "a = IntSlider(min=-10,max=30)\n",
    "b = IntSlider(min=-10,max=30)\n",
    "c = ctx.c.output()\n",
    "ctx.a.traitlet().link(a)\n",
    "ctx.b.traitlet().link(b)\n",
    "display(a)\n",
    "display(b)\n",
    "display(c)"
   ]
  },
  {
   "cell_type": "code",
   "execution_count": null,
   "id": "0ca9f7f2-fc77-4034-9625-50da5610e7cb",
   "metadata": {},
   "outputs": [],
   "source": []
  }
 ],
 "metadata": {
  "kernelspec": {
   "display_name": "Python 3",
   "language": "python",
   "name": "python3"
  },
  "language_info": {
   "codemirror_mode": {
    "name": "ipython",
    "version": 3
   },
   "file_extension": ".py",
   "mimetype": "text/x-python",
   "name": "python",
   "nbconvert_exporter": "python",
   "pygments_lexer": "ipython3",
   "version": "3.8.8"
  },
  "widgets": {
   "application/vnd.jupyter.widget-state+json": {
    "state": {
     "0030e615b5f24d0bbe7e31c4a291a334": {
      "model_module": "@jupyter-widgets/controls",
      "model_module_version": "1.5.0",
      "model_name": "SliderStyleModel",
      "state": {
       "description_width": ""
      }
     },
     "1a60050d9fb54cacb926a7135947de48": {
      "model_module": "@jupyter-widgets/base",
      "model_module_version": "1.2.0",
      "model_name": "LayoutModel",
      "state": {}
     },
     "5bfc5b288f9444578426c8c04b3d904f": {
      "model_module": "@jupyter-widgets/controls",
      "model_module_version": "1.5.0",
      "model_name": "IntSliderModel",
      "state": {
       "layout": "IPY_MODEL_1a60050d9fb54cacb926a7135947de48",
       "max": 30,
       "min": -10,
       "style": "IPY_MODEL_0030e615b5f24d0bbe7e31c4a291a334",
       "value": 20
      }
     },
     "643b2d970e9f4a29860aab5c86448899": {
      "model_module": "@jupyter-widgets/base",
      "model_module_version": "1.2.0",
      "model_name": "LayoutModel",
      "state": {}
     },
     "804a777defce4eeb9f29145092d65a64": {
      "model_module": "@jupyter-widgets/controls",
      "model_module_version": "1.5.0",
      "model_name": "IntSliderModel",
      "state": {
       "layout": "IPY_MODEL_643b2d970e9f4a29860aab5c86448899",
       "max": 30,
       "min": -10,
       "style": "IPY_MODEL_cb85d00168ec41e99192590c6d51b76d",
       "value": 15
      }
     },
     "987e631a878945e8b99d4369a4c3b8e6": {
      "model_module": "@jupyter-widgets/output",
      "model_module_version": "1.0.0",
      "model_name": "OutputModel",
      "state": {
       "layout": "IPY_MODEL_aa60ec18b1b74d8696dbc7ed3519dc44",
       "outputs": [
        {
         "data": {
          "text/plain": "35"
         },
         "metadata": {},
         "output_type": "display_data"
        }
       ]
      }
     },
     "aa60ec18b1b74d8696dbc7ed3519dc44": {
      "model_module": "@jupyter-widgets/base",
      "model_module_version": "1.2.0",
      "model_name": "LayoutModel",
      "state": {}
     },
     "cb85d00168ec41e99192590c6d51b76d": {
      "model_module": "@jupyter-widgets/controls",
      "model_module_version": "1.5.0",
      "model_name": "SliderStyleModel",
      "state": {
       "description_width": ""
      }
     }
    },
    "version_major": 2,
    "version_minor": 0
   }
  }
 },
 "nbformat": 4,
 "nbformat_minor": 5
}
