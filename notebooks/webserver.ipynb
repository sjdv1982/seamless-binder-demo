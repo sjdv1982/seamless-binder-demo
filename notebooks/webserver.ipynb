{
 "cells": [
  {
   "cell_type": "markdown",
   "id": "50007ea8-204f-473a-a28c-a9f0582222b5",
   "metadata": {
    "tags": []
   },
   "source": [
    "# Interactive collaborative web server (BinderHub version)"
   ]
  },
  {
   "cell_type": "markdown",
   "id": "93378670-20e5-4949-a282-f280ae708abd",
   "metadata": {},
   "source": [
    "## Starting point: a simplistic Jupyter workflow. \n",
    "### - *Generate a random dataset, and then plot it.*\n",
    "### - *Optionally, cluster it first.*"
   ]
  },
  {
   "cell_type": "markdown",
   "id": "2d57aa4b-cf41-49e4-95a9-8c84cb5bcca9",
   "metadata": {},
   "source": [
    "### **1. Generate dataset**"
   ]
  },
  {
   "cell_type": "code",
   "execution_count": 1,
   "id": "661484b4-53eb-41cf-94b4-719d41f8fe78",
   "metadata": {
    "scrolled": true,
    "tags": []
   },
   "outputs": [
    {
     "data": {
      "text/plain": [
       "array([[ -9.30642483,   4.69739782],\n",
       "       [ -7.33070702,  -2.16067587],\n",
       "       [ -0.79813418,  -3.30348843],\n",
       "       [  0.75357231,  -2.82726984],\n",
       "       [ -5.45690141,  -2.75543086],\n",
       "       [  1.5058134 ,  -2.49774128],\n",
       "       [ -2.99853438,   8.88050965],\n",
       "       [ -0.34450934,  10.11445635],\n",
       "       [ -5.40158025,  -3.7673995 ],\n",
       "       [ -0.25965744,  -4.10140057],\n",
       "       [ -2.12787163,  12.14820758],\n",
       "       [ -0.67503409,  10.20515929],\n",
       "       [  0.30257578,  -2.43093464],\n",
       "       [  0.61229213,  -2.60972701],\n",
       "       [ -0.71112165,   8.69786762],\n",
       "       [ -2.27116911,  -3.11300622],\n",
       "       [ -9.69750513,   3.26585473],\n",
       "       [ -9.4918207 ,   6.27701734],\n",
       "       [ -2.01182131,   7.9920665 ],\n",
       "       [  1.91819465,   3.6282637 ],\n",
       "       [  2.30377082,   4.6672369 ],\n",
       "       [  0.87218078,  -3.57180496],\n",
       "       [ -0.42731279,  -1.16919848],\n",
       "       [ -2.21627163,  10.22374457],\n",
       "       [ -5.37409682,  -4.44264095],\n",
       "       [ -1.69582486,  10.70123536],\n",
       "       [ -9.01480812,   4.82582867],\n",
       "       [ -1.56470891,  -3.83448146],\n",
       "       [  0.30345784,  -2.1491548 ],\n",
       "       [ -0.59442535,   8.87996956],\n",
       "       [ -4.94086878,  -2.60008918],\n",
       "       [ -0.5923577 ,  10.48865296],\n",
       "       [  2.28439084,   5.55929902],\n",
       "       [ -3.73233505,   7.63524492],\n",
       "       [ -9.46766293,   4.55238884],\n",
       "       [  1.13400757,   4.43157751],\n",
       "       [ -8.88943327,   4.22862426],\n",
       "       [  2.09261335,   2.86251057],\n",
       "       [ -5.54608629,  -5.41307766],\n",
       "       [ -5.94962787,  -3.96201719],\n",
       "       [ -9.33292496,   5.90226207],\n",
       "       [ -6.10482624,  -3.78442608],\n",
       "       [ -4.10527086,  -3.70282506],\n",
       "       [ -1.70779412,   9.57421003],\n",
       "       [ -1.6759482 ,  -2.39927104],\n",
       "       [  2.80218218,   4.05009138],\n",
       "       [  2.9898322 ,   2.76770216],\n",
       "       [ -8.56386486,   5.64621607],\n",
       "       [ -2.48312305,   8.02099074],\n",
       "       [ -1.20639725,  11.97163615],\n",
       "       [  0.52614797,  -5.96431011],\n",
       "       [  0.28219309,   8.84502381],\n",
       "       [  1.5403648 ,   3.95633068],\n",
       "       [ -2.92436081,   8.38023429],\n",
       "       [ -0.23882665,   8.03844803],\n",
       "       [ -0.79230277,  -2.31710784],\n",
       "       [  0.63903482,   3.19706792],\n",
       "       [ -8.51098402,   5.60974621],\n",
       "       [ -1.90489649,  -3.37640873],\n",
       "       [ -1.96072854,  10.92528803],\n",
       "       [  0.14822226,   8.59012821],\n",
       "       [ -6.75926502,  -2.17114141],\n",
       "       [  1.79372333,   2.58593097],\n",
       "       [  0.87994456,  -3.00312563],\n",
       "       [ -0.72022487,  -2.41276044],\n",
       "       [-10.923145  ,   3.70495668],\n",
       "       [ -0.38607783,  -4.25300513],\n",
       "       [  2.41937881,   4.52826018],\n",
       "       [ -9.97640649,   7.0364856 ],\n",
       "       [  0.0461684 ,  -3.39259825],\n",
       "       [ -5.85936622,  -4.78744727],\n",
       "       [ -0.24226953,   8.85895505],\n",
       "       [  0.45601696,  -4.76871695],\n",
       "       [  2.37680711,   8.18481036],\n",
       "       [-10.87709109,   3.72527458],\n",
       "       [  2.85055383,   3.45079932],\n",
       "       [  4.11639549,   4.6570022 ],\n",
       "       [ -9.67641438,   5.8767874 ],\n",
       "       [ -0.11921125,   6.00916258],\n",
       "       [ -3.92950986,   9.69475963],\n",
       "       [ -0.62804488,   9.54539642],\n",
       "       [ -0.87663485,  -0.58599531],\n",
       "       [  3.15645125,   3.86915555],\n",
       "       [ -4.00530069,   9.18019717],\n",
       "       [ -0.75741598,  -4.98751645],\n",
       "       [ -3.80868468,  -4.29345999],\n",
       "       [ -1.71192245,   8.43157731],\n",
       "       [  2.64582914,   2.89710831],\n",
       "       [  1.39314108,   4.35654734],\n",
       "       [  1.06090511,   3.6629621 ],\n",
       "       [ -3.7184488 ,  11.00773783],\n",
       "       [-10.73347147,   3.63148453],\n",
       "       [ -4.82370694,  -2.26237877],\n",
       "       [ -3.54279577,   9.65348502],\n",
       "       [-10.94410291,   5.7329288 ],\n",
       "       [ -0.02599295,  -3.78400451],\n",
       "       [  0.82800395,   8.69254964],\n",
       "       [ -4.25024957,  -4.72195113],\n",
       "       [ -5.63214646,  -3.76170853],\n",
       "       [ -6.23273404,  -4.73008398],\n",
       "       [  2.57815496,   3.94786101],\n",
       "       [  1.38796725,   4.38506   ],\n",
       "       [ -0.11656054,  -1.92283021],\n",
       "       [ -8.53792529,   4.30060817],\n",
       "       [ -5.79629211,  -4.3046093 ],\n",
       "       [ -4.5068991 ,  -2.13193134],\n",
       "       [ -2.25194271,  10.51321442],\n",
       "       [ -1.50468315,  -4.62784534],\n",
       "       [ -2.3620171 ,   8.58921277],\n",
       "       [-10.4021132 ,   3.02485054],\n",
       "       [ -8.62818942,   5.11062422],\n",
       "       [ -0.56763881,   8.77146588],\n",
       "       [ -6.15208468,  -5.13232585],\n",
       "       [ -4.22490587,  10.45339163],\n",
       "       [-10.37408914,   3.86538416],\n",
       "       [ -6.28002845,  -3.21910923],\n",
       "       [ -6.99541604,  -2.87109841],\n",
       "       [-10.03313995,   2.77176954],\n",
       "       [ -2.37978967,  10.8034341 ],\n",
       "       [ -8.83198545,   3.8365835 ],\n",
       "       [ -0.37412615,   9.89826845],\n",
       "       [ -0.34941091,   7.53425279],\n",
       "       [  2.48037066,   4.76486746],\n",
       "       [ -1.84188582,   9.0117647 ],\n",
       "       [ -2.63494936,  -2.44537638],\n",
       "       [  1.19844002,   6.09575811],\n",
       "       [-11.09825596,   4.83885758],\n",
       "       [ -1.91764598,  10.23052515],\n",
       "       [ -8.98672994,   7.19037785],\n",
       "       [ -1.66612722,  -3.88124926],\n",
       "       [  1.53592178,   3.85617717],\n",
       "       [  1.04211861,  -3.40512189],\n",
       "       [  2.39332526,   4.41765595],\n",
       "       [  0.94331868,   3.41547244],\n",
       "       [ -0.89482311,  11.22335022],\n",
       "       [  2.06880793,  11.25772367],\n",
       "       [  0.34588876,   9.47981358],\n",
       "       [ -8.70022212,   5.04808429],\n",
       "       [ -0.2829822 ,  11.38595759],\n",
       "       [  2.20715374,   3.22459544],\n",
       "       [ -0.34008002,  -3.23356789],\n",
       "       [  1.87682196,   5.35075994],\n",
       "       [ -2.64055532,   7.61695386],\n",
       "       [  1.06392375,   9.99947374],\n",
       "       [-10.30534904,   6.85169255],\n",
       "       [  2.96263282,   4.62745742],\n",
       "       [ -1.42298149,   9.50435851],\n",
       "       [-12.0093865 ,   5.33131318],\n",
       "       [ -0.20701436,   9.11423492],\n",
       "       [ -5.54624568,  -4.68622093],\n",
       "       [-11.14588163,   5.24214151],\n",
       "       [  0.27551881,   9.82349631],\n",
       "       [ -4.43083191,  -3.22295906],\n",
       "       [  0.35612537,  10.27904384],\n",
       "       [ -4.61828721,  -3.02721562],\n",
       "       [ -8.2778952 ,   3.67513109],\n",
       "       [ -2.03469155,   9.56382745],\n",
       "       [ -3.78348687,  -2.56389485],\n",
       "       [ -4.17251437,  10.79476724],\n",
       "       [ -0.86626476,  -0.88013628],\n",
       "       [-10.43931199,   5.07786768],\n",
       "       [ -4.11461029,  -2.87510114],\n",
       "       [  0.29110711,  -4.54189422],\n",
       "       [ -0.4006441 ,  10.21459829],\n",
       "       [  0.82112716,   2.74917272],\n",
       "       [ -3.3862916 ,  10.50868039],\n",
       "       [ -4.14103782,   7.94355182],\n",
       "       [  3.95426795,   5.32369751],\n",
       "       [  0.50392566,   8.81149249],\n",
       "       [-10.41093639,   6.53431198],\n",
       "       [  0.45039063,  11.59174313],\n",
       "       [ -5.09016185,  -3.71073821],\n",
       "       [ -2.88229696,   9.71212334],\n",
       "       [ -1.00364299,  10.57073183],\n",
       "       [ -1.60556493,  11.85551851],\n",
       "       [ -0.03140878,   7.73186347],\n",
       "       [ -0.44982531,  -3.41173619],\n",
       "       [ -1.79522816,   9.99799411],\n",
       "       [ -0.83159802,  -2.9429485 ],\n",
       "       [ -9.1687722 ,   6.31150416],\n",
       "       [ -4.03195497,  -4.22110189],\n",
       "       [  1.62912655,   4.82569061],\n",
       "       [ -9.62524194,   5.64733616],\n",
       "       [ -3.87122973,  10.86329688],\n",
       "       [ -6.80282902,  -3.77078374],\n",
       "       [ -1.57196657,  -5.60284155],\n",
       "       [ -2.48854239,  -2.31401736],\n",
       "       [ -0.11509328,  -2.88935574],\n",
       "       [  0.07278447,   9.30156142],\n",
       "       [ -1.88371289,   7.22176443],\n",
       "       [ -3.01292675,   8.70685911],\n",
       "       [ -4.9899671 ,  -4.25031013],\n",
       "       [  1.80157705,   2.97583841],\n",
       "       [  2.64523097,   3.95393113],\n",
       "       [-11.01078604,   4.35792732],\n",
       "       [ -3.75313121,  -2.88883745],\n",
       "       [-10.54426056,   6.58459043],\n",
       "       [ -0.86935423,  10.61644828],\n",
       "       [  2.42981024,   5.12493462],\n",
       "       [ -4.28203114,   7.05159694],\n",
       "       [  1.16601309,   9.43588756],\n",
       "       [ -8.80756302,   4.46240838],\n",
       "       [  0.99476675,   8.76277715],\n",
       "       [ -6.36985075,  -1.2690215 ],\n",
       "       [ -6.47442142,  -4.1873884 ],\n",
       "       [ -2.83132634,   8.50645271],\n",
       "       [  1.37605575,  -2.48268776],\n",
       "       [  2.50784781,   4.46644987],\n",
       "       [  2.1887901 ,   6.03461146],\n",
       "       [  1.12225519,  -1.77659589],\n",
       "       [ -2.96347903,   9.056267  ],\n",
       "       [  2.19102563,   4.61980111],\n",
       "       [ -0.06434401,  10.01266967],\n",
       "       [  1.61062821,   4.58188048],\n",
       "       [  0.69903482,   9.51709038],\n",
       "       [ -6.14308269,  -3.35810304],\n",
       "       [  0.42613473,   4.10902174],\n",
       "       [ -4.12637854,  -3.50623601],\n",
       "       [  1.09403713,  -2.05498459],\n",
       "       [-11.90970686,   4.82982748],\n",
       "       [-10.56506998,   6.85214632],\n",
       "       [ -2.00667449,   8.62232367],\n",
       "       [ -8.05154745,   5.79606573],\n",
       "       [  0.02332511,   9.70698724],\n",
       "       [ -4.4779321 ,  -3.63835473],\n",
       "       [ -9.51406045,   4.3958754 ],\n",
       "       [  0.02835963,   8.8941678 ],\n",
       "       [ -9.94442386,   4.57810214],\n",
       "       [ -1.03970765,  10.04121923],\n",
       "       [ -2.54482763,   9.23975876],\n",
       "       [ -4.52235936,  -3.11721503],\n",
       "       [-10.00283079,   6.91453274],\n",
       "       [ -5.91761473,  -3.99798964],\n",
       "       [ -3.13065331,   9.75218346],\n",
       "       [  0.06457615,  -3.04518607],\n",
       "       [ -0.14407888,  11.1359823 ],\n",
       "       [ -4.94816601,  -1.83200811],\n",
       "       [ -2.50294425,   8.5004833 ],\n",
       "       [  1.08700953,   4.84832928],\n",
       "       [  1.21276554,  10.17267631],\n",
       "       [ -8.94927624,   4.83493014],\n",
       "       [ -6.39423337,  -2.80171942],\n",
       "       [ -1.6284627 ,   9.18296632],\n",
       "       [  2.92146871,   5.77664557],\n",
       "       [ -2.58800616,  -1.77967572],\n",
       "       [  2.15813617,   3.75551382],\n",
       "       [ -1.17269957,  -2.9788317 ],\n",
       "       [ -0.7365917 ,  11.06590642],\n",
       "       [ -0.60337905,  -2.56925739],\n",
       "       [ -0.76929287,  11.17255798]])"
      ]
     },
     "execution_count": 1,
     "metadata": {},
     "output_type": "execute_result"
    }
   ],
   "source": [
    "from sklearn.datasets import make_blobs\n",
    "\n",
    "dataset, dataset_classes = make_blobs(n_samples=250, centers=6)\n",
    "dataset"
   ]
  },
  {
   "cell_type": "markdown",
   "id": "208cd0d6-fa36-4595-b083-67c66319dbe9",
   "metadata": {},
   "source": [
    "### **2. Plot without clustering**"
   ]
  },
  {
   "cell_type": "code",
   "execution_count": 2,
   "id": "d374d8db-1676-4ea7-8fe7-ff49ef185a74",
   "metadata": {},
   "outputs": [],
   "source": [
    "import matplotlib.pyplot as plt\n",
    "\n",
    "def plot_dataset(dataset, colors):\n",
    "    x, y = dataset[:, 0], dataset[:, 1]\n",
    "    plt.scatter(x,y, c=colors)"
   ]
  },
  {
   "cell_type": "code",
   "execution_count": 3,
   "id": "96a60aa5-33bf-47d0-92dc-5842696cba85",
   "metadata": {},
   "outputs": [
    {
     "data": {
      "image/png": "[encoded data removed]",
      "text/plain": [
       "<Figure size 432x288 with 1 Axes>"
      ]
     },
     "metadata": {
      "needs_background": "light"
     },
     "output_type": "display_data"
    }
   ],
   "source": [
    "plot_dataset(dataset, dataset_classes)"
   ]
  },
  {
   "cell_type": "markdown",
   "id": "72c6ba5e-df32-42a5-925d-7d5adbe016a5",
   "metadata": {},
   "source": [
    "### **3. Plot with clustering**"
   ]
  },
  {
   "cell_type": "code",
   "execution_count": 4,
   "id": "9f57b527-0eab-48e8-8a1c-e61092f0ab7a",
   "metadata": {},
   "outputs": [
    {
     "data": {
      "image/png": "[encoded data removed]",
      "text/plain": [
       "<Figure size 432x288 with 1 Axes>"
      ]
     },
     "metadata": {
      "needs_background": "light"
     },
     "output_type": "display_data"
    }
   ],
   "source": [
    "from sklearn.cluster import KMeans\n",
    "k = 4\n",
    "clustering = KMeans(n_clusters=k).fit_predict(dataset)\n",
    "plot_dataset(dataset, clustering)"
   ]
  },
  {
   "cell_type": "markdown",
   "id": "5f6907db-29ab-46c8-b0ed-37fdacea5431",
   "metadata": {},
   "source": [
    "## Before we start: clean up the workflow\n",
    "### - *Make it deterministic (explicit random state)*\n",
    "### - *Put all computation in functions.*\n",
    "### - *Self-contained functions: don't rely on global variables or external imports.*\n",
    "### - *Self-contained functions: return the plot as image bytes.*"
   ]
  },
  {
   "cell_type": "markdown",
   "id": "c6303799-b0a7-4a07-a162-e445356e3682",
   "metadata": {},
   "source": [
    "### **1. Generate dataset**"
   ]
  },
  {
   "cell_type": "code",
   "execution_count": 5,
   "id": "570d8bf5-145f-4351-9b4f-fd51e5e6c8fe",
   "metadata": {},
   "outputs": [],
   "source": [
    "def generate_dataset(n_samples, random_state, delay, n_clusters):\n",
    "    # create artifical delay, so that the workflow status can be monitored\n",
    "    import time\n",
    "    time.sleep(delay)\n",
    "    \n",
    "    from sklearn.datasets import make_blobs\n",
    "    dataset, dataset_classes = make_blobs(n_samples=n_samples, random_state=random_state, centers=n_clusters)\n",
    "    return dataset, dataset_classes"
   ]
  },
  {
   "cell_type": "code",
   "execution_count": 6,
   "id": "c0fab4e4-4688-435d-b57c-80f47833af24",
   "metadata": {
    "scrolled": true,
    "tags": []
   },
   "outputs": [
    {
     "data": {
      "text/plain": [
       "array([[-3.90742801e+00,  8.44177954e+00],\n",
       "       [ 9.25757310e+00, -2.17024146e+00],\n",
       "       [ 2.15504965e+00,  4.12386249e+00],\n",
       "       [-9.73739417e-01,  6.94454493e+00],\n",
       "       [-7.55113462e-01,  3.74138642e+00],\n",
       "       [ 3.03809631e-01,  3.94423417e+00],\n",
       "       [ 1.07932501e+01, -6.11580316e-01],\n",
       "       [ 2.18217961e+00,  1.29965302e+00],\n",
       "       [-2.16434104e+00,  2.52061045e+00],\n",
       "       [-1.36641982e+00,  7.15528181e+00],\n",
       "       [ 2.45127423e+00, -1.95397849e-01],\n",
       "       [ 1.00877750e+01, -2.27224403e+00],\n",
       "       [ 2.20656076e+00,  5.50616718e+00],\n",
       "       [ 2.46452227e+00,  6.19967650e+00],\n",
       "       [ 9.14314826e+00, -2.23721639e+00],\n",
       "       [ 9.08260172e+00, -2.72601914e+00],\n",
       "       [ 1.44193252e+00,  2.76754364e+00],\n",
       "       [ 4.92573752e+00,  1.53580774e-01],\n",
       "       [ 7.07656534e-01,  8.22555334e+00],\n",
       "       [ 2.63185834e+00,  6.89364904e-01],\n",
       "       [ 2.50904929e+00,  5.77314610e+00],\n",
       "       [-7.22828865e-02,  2.88376939e+00],\n",
       "       [ 8.08035174e-02,  4.69068983e+00],\n",
       "       [ 1.98702592e+00,  2.61100638e+00],\n",
       "       [ 1.84070628e+00,  3.56162231e+00],\n",
       "       [ 1.36069966e+00,  7.48029120e-01],\n",
       "       [ 7.43018566e+00, -2.80914363e+00],\n",
       "       [ 2.66934689e+00,  1.81987033e+00],\n",
       "       [-2.37508158e+00,  7.10478226e+00],\n",
       "       [-2.95096492e+00,  2.42456238e+00],\n",
       "       [-1.24697941e+00,  2.81973187e+00],\n",
       "       [-1.29042723e+00,  7.54857282e+00],\n",
       "       [ 8.82144116e-01,  2.84128485e+00],\n",
       "       [ 7.34782884e+00,  1.13103046e+00],\n",
       "       [-1.95295605e+00,  8.77872074e+00],\n",
       "       [-1.96786016e+00,  7.02246703e+00],\n",
       "       [-1.38195733e+00,  8.91320382e+00],\n",
       "       [ 1.02051036e+01, -1.99120464e+00],\n",
       "       [ 6.65608647e+00,  5.83191041e-01],\n",
       "       [ 2.43169305e+00, -2.01737131e-01],\n",
       "       [ 5.73093132e-01,  5.52623240e+00],\n",
       "       [-6.16725105e-01,  3.23510048e+00],\n",
       "       [-2.06976549e+00,  3.33393231e+00],\n",
       "       [ 1.14244530e+00,  2.01467995e+00],\n",
       "       [ 1.06377871e+01, -3.02061881e+00],\n",
       "       [-2.48284901e+00,  2.57190049e+00],\n",
       "       [ 1.15369622e+00,  3.90200639e+00],\n",
       "       [ 1.41942144e+00,  1.57409695e+00],\n",
       "       [ 8.67460127e+00, -3.44706661e+00],\n",
       "       [-2.47135027e+00,  2.50783257e+00],\n",
       "       [ 8.79359940e+00, -1.71081133e+00],\n",
       "       [ 5.17594779e+00,  6.36644291e-02],\n",
       "       [ 1.73730780e+00,  4.42546234e+00],\n",
       "       [ 3.41947985e-01,  3.94104616e+00],\n",
       "       [ 1.13121750e+00,  4.68194985e+00],\n",
       "       [ 3.00251949e+00,  7.42653567e-01],\n",
       "       [-1.38420548e+00,  8.97235138e+00],\n",
       "       [ 4.86339619e+00,  8.92715600e-01],\n",
       "       [-1.64770480e+00,  8.20551590e+00],\n",
       "       [ 6.17340489e+00,  2.59894196e+00],\n",
       "       [-5.01067441e-01,  6.64651506e+00],\n",
       "       [ 2.11567076e+00,  3.06896151e+00],\n",
       "       [ 1.28535145e+00,  1.43691285e+00],\n",
       "       [-1.83591698e+00,  1.24187846e+00],\n",
       "       [-7.40576051e-01,  2.45146316e+00],\n",
       "       [ 8.98141785e+00, -3.09266184e+00],\n",
       "       [-9.01672562e-01,  1.31582461e+00],\n",
       "       [ 5.31698172e+00, -4.00931464e-01],\n",
       "       [ 3.97820955e+00,  2.37817845e+00],\n",
       "       [ 4.77987230e+00,  1.39814623e+00],\n",
       "       [ 6.96309483e+00,  1.07389934e+00],\n",
       "       [-5.58437610e-01,  9.13730625e+00],\n",
       "       [ 2.06576754e+00,  2.68353415e+00],\n",
       "       [ 1.05472929e-01,  3.72493766e+00],\n",
       "       [ 8.53072481e+00,  5.03973729e-01],\n",
       "       [ 9.84054549e+00, -2.55384472e+00],\n",
       "       [-1.88089792e+00,  1.54293097e+00],\n",
       "       [ 3.54588072e+00,  8.29382810e-01],\n",
       "       [-1.88879762e-01,  5.20461381e+00],\n",
       "       [ 1.55723507e+00,  2.82719571e+00],\n",
       "       [-2.40561103e+00,  7.52316776e+00],\n",
       "       [-3.18453558e+00,  8.02423861e+00],\n",
       "       [ 6.60590671e+00,  1.60733722e+00],\n",
       "       [ 6.29763109e+00,  8.56994159e-01],\n",
       "       [ 7.57337344e+00,  1.57229279e+00],\n",
       "       [ 8.91982346e+00, -3.94764381e+00],\n",
       "       [-2.76525282e-01,  5.08127768e+00],\n",
       "       [ 1.64164854e+00,  1.50208848e-01],\n",
       "       [ 4.43841230e+00,  1.84214315e+00],\n",
       "       [ 1.33263648e+00,  5.01036050e+00],\n",
       "       [-1.35879643e+00,  8.85563273e+00],\n",
       "       [-1.00583914e+00,  2.34209429e+00],\n",
       "       [-4.75002797e-01,  6.65157938e+00],\n",
       "       [-1.89608585e+00,  2.67850308e+00],\n",
       "       [ 3.92282648e+00,  1.80370832e+00],\n",
       "       [-1.79746375e-01,  7.38207421e+00],\n",
       "       [ 9.91656968e+00, -3.90179303e+00],\n",
       "       [-1.57671974e+00,  4.95740592e+00],\n",
       "       [-1.55914195e+00,  7.93286018e+00],\n",
       "       [ 6.69709677e+00, -2.07772070e+00],\n",
       "       [ 1.09213901e+01, -2.16694187e+00],\n",
       "       [ 1.05505217e+00, -6.47107437e-01],\n",
       "       [ 3.00468833e+00,  9.85214901e-01],\n",
       "       [-2.63128735e+00,  2.97004734e+00],\n",
       "       [-2.71576327e+00,  2.41106591e+00],\n",
       "       [-2.12422008e+00,  2.67996053e+00],\n",
       "       [-1.00362735e+00,  2.74633593e+00],\n",
       "       [-7.54513997e-01,  7.71935608e+00],\n",
       "       [ 3.93841822e+00, -4.50095401e-01],\n",
       "       [ 1.10059764e+01, -1.64666852e+00],\n",
       "       [ 9.64408021e+00, -2.18910782e+00],\n",
       "       [ 4.65464941e-01,  3.12315514e+00],\n",
       "       [ 7.17865214e+00, -2.20744771e+00],\n",
       "       [-1.68917841e+00,  7.55510452e+00],\n",
       "       [-6.37627769e-01,  4.09104705e+00],\n",
       "       [ 5.88943261e-01,  4.00148458e+00],\n",
       "       [ 5.74856999e+00,  7.72191333e-01],\n",
       "       [-1.38495085e+00,  2.59855384e+00],\n",
       "       [-1.61294932e+00,  7.99216387e+00],\n",
       "       [-7.24364751e-01,  7.92388210e+00],\n",
       "       [ 8.96414077e+00, -2.56463629e+00],\n",
       "       [-6.53928268e-01,  4.76656958e+00],\n",
       "       [ 1.95681500e+00,  2.34185374e-01],\n",
       "       [ 9.85177671e+00, -1.98151517e+00],\n",
       "       [-2.12321805e+00,  2.86531497e+00],\n",
       "       [-1.15053081e+00,  8.41841370e+00],\n",
       "       [ 1.04278730e+00,  4.60625923e+00],\n",
       "       [ 1.62011397e+00,  2.74692739e+00],\n",
       "       [ 1.01311791e+01, -1.19006776e+00],\n",
       "       [-1.37039748e+00,  3.15006330e+00],\n",
       "       [-8.86772487e-01,  1.30092622e+00],\n",
       "       [ 1.19404184e+00,  2.80772861e+00],\n",
       "       [ 1.02163013e+01, -5.07084679e+00],\n",
       "       [ 8.70394316e+00, -2.06126527e+00],\n",
       "       [-2.29350914e+00,  9.04660531e+00],\n",
       "       [ 9.48087850e-01,  4.73211920e+00],\n",
       "       [ 1.31051270e+00,  7.12251213e-02],\n",
       "       [ 2.91209813e+00,  2.46638067e-01],\n",
       "       [-1.99049999e+00,  3.39936374e+00],\n",
       "       [ 8.84843309e-02,  2.32299086e+00],\n",
       "       [ 1.05566092e+00,  6.77544419e+00],\n",
       "       [ 5.55883023e+00, -1.31829571e-01],\n",
       "       [ 8.62096161e+00, -2.85235894e+00],\n",
       "       [-5.54482622e-01,  7.67588658e+00],\n",
       "       [ 2.97612635e+00,  1.21639131e+00],\n",
       "       [ 1.37861172e+00,  3.61897724e+00],\n",
       "       [ 5.64009929e-01,  1.33705536e+00],\n",
       "       [ 4.87399638e+00, -2.15218968e-01],\n",
       "       [ 1.59973502e+00,  9.15142819e-01],\n",
       "       [ 8.50911129e+00, -3.76896110e+00],\n",
       "       [ 3.18190344e+00, -1.82267848e-01],\n",
       "       [ 1.18454506e+00,  5.28042636e+00],\n",
       "       [-1.30988218e+00,  7.72815474e+00],\n",
       "       [ 6.64717546e-01,  4.35995267e+00],\n",
       "       [ 7.57514939e+00, -1.94388915e+00],\n",
       "       [ 1.42013331e+00,  4.63746165e+00],\n",
       "       [-2.55478263e+00,  9.49359070e+00],\n",
       "       [ 5.43927178e+00, -5.81522121e-01],\n",
       "       [ 4.80456548e+00,  2.27955030e-01],\n",
       "       [-3.00414636e+00,  8.28639448e+00],\n",
       "       [ 9.32275019e+00, -1.83733285e+00],\n",
       "       [ 4.81645889e+00,  5.00043639e-01],\n",
       "       [ 6.72976103e+00,  1.95286246e+00],\n",
       "       [ 8.29832003e-01,  1.74202664e+00],\n",
       "       [ 2.22194102e+00,  1.53269510e+00],\n",
       "       [ 4.65534283e+00,  1.87932647e+00],\n",
       "       [ 8.28774447e+00, -3.80300463e+00],\n",
       "       [ 2.72756228e+00,  1.30512550e+00],\n",
       "       [ 9.00552167e+00, -3.45918095e+00],\n",
       "       [-3.06770103e+00,  2.98114426e+00],\n",
       "       [-1.90066436e+00,  7.44450664e+00],\n",
       "       [ 6.29191637e+00, -3.86713619e-01],\n",
       "       [ 1.02102468e+00,  1.57925818e+00],\n",
       "       [ 9.08820154e+00, -3.13881811e+00],\n",
       "       [ 1.07398339e+01, -1.47861768e+00],\n",
       "       [-9.61912086e-01,  8.44430385e+00],\n",
       "       [ 9.07798869e-01,  4.59843615e-01],\n",
       "       [-2.17052242e+00,  6.94479109e-01],\n",
       "       [ 6.89717142e-02,  4.35573272e+00],\n",
       "       [-5.81872693e-01,  7.37474023e+00],\n",
       "       [-8.49209429e-01,  5.06286726e+00],\n",
       "       [ 6.63506557e+00,  6.56158570e-01],\n",
       "       [-3.10984241e+00,  3.52826164e+00],\n",
       "       [ 1.38093486e+00,  9.29494218e-01],\n",
       "       [ 3.81809413e+00,  3.84437617e-02],\n",
       "       [ 9.31188576e+00, -3.98788473e+00],\n",
       "       [ 6.93478510e+00,  1.87592037e+00],\n",
       "       [ 6.71033352e+00,  4.62790927e-01],\n",
       "       [ 1.70536064e+00,  4.43277024e+00],\n",
       "       [-1.94030562e+00,  9.37183707e+00],\n",
       "       [-1.93609339e+00,  6.62138261e+00],\n",
       "       [ 6.93084761e+00,  3.43682594e-01],\n",
       "       [ 1.25185786e+00,  2.08113882e-01],\n",
       "       [ 1.02027603e+01, -1.74894503e+00],\n",
       "       [ 5.36765522e+00, -8.39007718e-01],\n",
       "       [ 6.36331936e-01,  4.25441021e+00],\n",
       "       [ 7.01769098e+00, -3.35367647e+00],\n",
       "       [-1.65978459e+00,  2.62009138e+00],\n",
       "       [-3.74572448e-01,  3.99750085e+00],\n",
       "       [ 7.39360111e-01,  4.36079055e-01],\n",
       "       [ 7.15363764e+00, -3.04520423e-01],\n",
       "       [ 2.35350570e+00,  2.22404956e+00],\n",
       "       [ 6.03380096e+00,  5.27294854e-01],\n",
       "       [ 1.00399184e+01, -1.97487681e+00],\n",
       "       [-1.87634333e+00,  7.35443290e+00],\n",
       "       [-1.10064528e+00,  3.59479030e+00],\n",
       "       [ 9.06635153e+00, -1.45099071e+00],\n",
       "       [ 5.36563657e+00, -1.62354289e+00],\n",
       "       [ 6.70346425e+00,  8.54770301e-01],\n",
       "       [-1.54392443e+00,  3.29703400e+00],\n",
       "       [ 9.55369692e+00, -3.32429323e+00],\n",
       "       [ 1.02202860e+00,  4.11660348e+00],\n",
       "       [-2.34026827e+00,  1.45145793e+00],\n",
       "       [ 7.32404937e-01,  2.87562511e+00],\n",
       "       [ 1.01148865e+01, -2.58062820e+00],\n",
       "       [-1.93226667e+00,  9.49501081e+00],\n",
       "       [ 3.24329731e+00,  1.21460627e+00],\n",
       "       [-7.30000112e-01,  6.25456272e+00],\n",
       "       [ 7.82672051e+00, -1.53087167e+00],\n",
       "       [-8.35365262e-01,  3.61263140e+00],\n",
       "       [-3.27894024e+00,  9.89995288e+00],\n",
       "       [ 2.47034915e+00,  4.09862906e+00],\n",
       "       [-1.40592279e+00,  1.00921835e+01],\n",
       "       [-2.25250139e+00,  1.53451831e+00],\n",
       "       [ 9.97171236e+00, -2.32739873e+00],\n",
       "       [-1.56618683e+00,  1.74978876e+00],\n",
       "       [ 1.28933778e+00,  3.44969159e+00],\n",
       "       [ 5.05187161e+00,  4.67509096e-01],\n",
       "       [-1.63313558e+00,  7.92981160e+00],\n",
       "       [ 4.66617897e-01,  3.86571303e+00],\n",
       "       [ 1.78726415e+00,  1.70012006e+00],\n",
       "       [-9.44825430e-02,  5.35823905e+00],\n",
       "       [-2.26646701e+00,  4.46089686e+00],\n",
       "       [-2.81976092e+00,  3.18493313e+00],\n",
       "       [ 3.24602470e+00,  2.84942165e+00],\n",
       "       [ 7.84782523e-01,  1.86706037e+00],\n",
       "       [-4.27244417e-01,  3.57314599e+00],\n",
       "       [ 6.21723319e+00,  5.43656115e-01],\n",
       "       [ 1.63123797e-01,  2.57750473e+00],\n",
       "       [ 5.39531124e+00,  7.59236824e-01],\n",
       "       [ 5.48705011e+00, -3.37008180e-03],\n",
       "       [-3.24194687e-02,  8.47897236e-01],\n",
       "       [-2.58251425e+00,  6.48874251e+00],\n",
       "       [ 5.78879680e+00,  7.98406051e-01],\n",
       "       [-1.55123014e+00,  2.17985135e+00],\n",
       "       [ 4.20186624e+00, -9.89869329e-01],\n",
       "       [ 6.28357929e-01,  4.46013630e+00],\n",
       "       [ 5.33168406e+00,  2.99035207e+00],\n",
       "       [-2.68308645e+00,  3.69908036e+00],\n",
       "       [ 7.50471676e+00, -1.97568783e+00]])"
      ]
     },
     "execution_count": 6,
     "metadata": {},
     "output_type": "execute_result"
    }
   ],
   "source": [
    "n_samples = 250\n",
    "random_state = 0\n",
    "delay = 2\n",
    "n_clusters = 6\n",
    "dataset, dataset_classes = generate_dataset(n_samples, random_state, delay, n_clusters)\n",
    "dataset"
   ]
  },
  {
   "cell_type": "markdown",
   "id": "3fb2034b-a17e-44cd-b589-a302ee83bfbd",
   "metadata": {},
   "source": [
    "### **2. Plot without clustering**"
   ]
  },
  {
   "cell_type": "code",
   "execution_count": 7,
   "id": "17c840e9-fc82-489b-bf31-2c53644fd631",
   "metadata": {},
   "outputs": [],
   "source": [
    "def plot_dataset(dataset, colors):\n",
    "    import matplotlib.pyplot as plt    \n",
    "    x, y = dataset[:, 0], dataset[:, 1]\n",
    "    plt.scatter(x,y, c=colors)    \n",
    "    \n",
    "    # We need to return the image bytes. Unfortunately, there is no Matplotlib built-in function for this\n",
    "    from io import BytesIO\n",
    "    image = BytesIO()\n",
    "    plt.savefig(image)\n",
    "    return image.getvalue()"
   ]
  },
  {
   "cell_type": "code",
   "execution_count": 8,
   "id": "3520a024-04a9-44d5-b41e-f67c841c350c",
   "metadata": {},
   "outputs": [
    {
     "data": {
      "image/png": "[encoded data removed]",
      "text/plain": [
       "<IPython.core.display.Image object>"
      ]
     },
     "execution_count": 8,
     "metadata": {},
     "output_type": "execute_result"
    },
    {
     "data": {
      "image/png": "[encoded data removed]",
      "text/plain": [
       "<Figure size 432x288 with 1 Axes>"
      ]
     },
     "metadata": {
      "needs_background": "light"
     },
     "output_type": "display_data"
    }
   ],
   "source": [
    "plot = plot_dataset(dataset, dataset_classes)\n",
    "from IPython.display import Image\n",
    "Image(plot)"
   ]
  },
  {
   "cell_type": "markdown",
   "id": "e9e92d4a-c1ef-45cc-9c04-477a57623e2f",
   "metadata": {},
   "source": [
    "### **3. Plot with clustering**"
   ]
  },
  {
   "cell_type": "code",
   "execution_count": 9,
   "id": "5f3cde2c-ccd0-40cc-81cd-74044962fa11",
   "metadata": {},
   "outputs": [],
   "source": [
    "def get_clustering(dataset, k):\n",
    "    from sklearn.cluster import KMeans\n",
    "    clustering = KMeans(n_clusters=k).fit_predict(dataset)\n",
    "    return clustering"
   ]
  },
  {
   "cell_type": "code",
   "execution_count": 10,
   "id": "41b8ae1b-d7c3-40c4-a017-87a676508e26",
   "metadata": {},
   "outputs": [
    {
     "data": {
      "image/png": "[encoded data removed]",
      "text/plain": [
       "<IPython.core.display.Image object>"
      ]
     },
     "execution_count": 10,
     "metadata": {},
     "output_type": "execute_result"
    },
    {
     "data": {
      "image/png": "[encoded data removed]",
      "text/plain": [
       "<Figure size 432x288 with 1 Axes>"
      ]
     },
     "metadata": {
      "needs_background": "light"
     },
     "output_type": "display_data"
    }
   ],
   "source": [
    "k = 4\n",
    "clustering = get_clustering(dataset, k)\n",
    "plot = plot_dataset(dataset, clustering)\n",
    "Image(plot)"
   ]
  },
  {
   "cell_type": "markdown",
   "id": "45559ba0-27ed-4dfc-923b-69021f85e76c",
   "metadata": {},
   "source": [
    "# Porting the workflow to Seamless"
   ]
  },
  {
   "cell_type": "markdown",
   "id": "98a2f6e5-7c23-4bba-a169-8ca297468be3",
   "metadata": {},
   "source": [
    "### Create a new Seamless project\n",
    "(If Seamless is installed locally, you would use the `seamless-new-project` command instead)"
   ]
  },
  {
   "cell_type": "code",
   "execution_count": 11,
   "id": "7ab1de2d-79bd-4a61-9d7e-cf280a91e894",
   "metadata": {
    "tags": []
   },
   "outputs": [
    {
     "data": {
      "text/plain": [
       "0"
      ]
     },
     "execution_count": 11,
     "metadata": {},
     "output_type": "execute_result"
    }
   ],
   "source": [
    "import os\n",
    "if not os.path.exists(\"web/\"):\n",
    "    os.system(\"python3 ~/seamless-scripts/new-project.py webserver-example\")\n",
    "else:\n",
    "    # To avoid merge conflicts, remove all existing customized web content\n",
    "    os.system(\"rm -f web/webform.json web/index.html web/index.js web/*CONFLICT.*\")\n",
    "\n",
    "# new-project.py will generate a default Notebook for the project. Link it to the current notebook instead\n",
    "os.system(\"rm -f webserver-example.ipynb\")\n",
    "os.system(\"ln -s webserver.ipynb webserver-example.ipynb\")"
   ]
  },
  {
   "cell_type": "markdown",
   "id": "e1d8c286-4bb0-4265-a15d-700ebe098151",
   "metadata": {},
   "source": [
    "### Load the project"
   ]
  },
  {
   "cell_type": "code",
   "execution_count": 12,
   "id": "4f2b5045-c6cc-4686-b473-d59270f669ba",
   "metadata": {
    "tags": []
   },
   "outputs": [
    {
     "name": "stderr",
     "output_type": "stream",
     "text": [
      "*** define_graph() function is empty. Loading 'graph/webserver-example.seamless' ***\n",
      "\n",
      "/opt/conda/lib/python3.8/site-packages/seamless/core/mount.py:123: RuntimeWarning: coroutine 'sleep' was never awaited\n",
      "  pass\n",
      "RuntimeWarning: Enable tracemalloc to get the object allocation traceback\n",
      "Project loaded.\n",
      "\n",
      "    Main context is \"ctx\"\n",
      "    Web/status context is \"webctx\"\n",
      "\n",
      "    Open http://localhost:<REST server port> to see the web page\n",
      "    Open http://localhost:<REST server port>/status/status.html to see the status\n",
      "\n",
      "    Run save() to save the project\n",
      "    \n"
     ]
    },
    {
     "name": "stdout",
     "output_type": "stream",
     "text": [
      "Opened the seamless share update server at port 5138\n",
      "Opened the seamless REST server at port 5813\n"
     ]
    }
   ],
   "source": [
    "%run -i load-project.py\n",
    "await load()"
   ]
  },
  {
   "cell_type": "markdown",
   "id": "cfe44286-d9ab-4c35-9753-08660eebcf2b",
   "metadata": {},
   "source": [
    "### **1. Generate dataset**"
   ]
  },
  {
   "cell_type": "code",
   "execution_count": 13,
   "id": "bac10e49-7704-4dd5-b1ea-48ff4ff07207",
   "metadata": {
    "scrolled": true,
    "tags": []
   },
   "outputs": [
    {
     "name": "stdout",
     "output_type": "stream",
     "text": [
      "\n",
      "Status: OK Exception:  None\n",
      "Result:\n"
     ]
    },
    {
     "data": {
      "text/plain": [
       "array([[-3.90742801e+00,  8.44177954e+00],\n",
       "       [ 9.25757310e+00, -2.17024146e+00],\n",
       "       [ 2.15504965e+00,  4.12386249e+00],\n",
       "       [-9.73739417e-01,  6.94454493e+00],\n",
       "       [-7.55113462e-01,  3.74138642e+00],\n",
       "       [ 3.03809631e-01,  3.94423417e+00],\n",
       "       [ 1.07932501e+01, -6.11580316e-01],\n",
       "       [ 2.18217961e+00,  1.29965302e+00],\n",
       "       [-2.16434104e+00,  2.52061045e+00],\n",
       "       [-1.36641982e+00,  7.15528181e+00],\n",
       "       [ 2.45127423e+00, -1.95397849e-01],\n",
       "       [ 1.00877750e+01, -2.27224403e+00],\n",
       "       [ 2.20656076e+00,  5.50616718e+00],\n",
       "       [ 2.46452227e+00,  6.19967650e+00],\n",
       "       [ 9.14314826e+00, -2.23721639e+00],\n",
       "       [ 9.08260172e+00, -2.72601914e+00],\n",
       "       [ 1.44193252e+00,  2.76754364e+00],\n",
       "       [ 4.92573752e+00,  1.53580774e-01],\n",
       "       [ 7.07656534e-01,  8.22555334e+00],\n",
       "       [ 2.63185834e+00,  6.89364904e-01],\n",
       "       [ 2.50904929e+00,  5.77314610e+00],\n",
       "       [-7.22828865e-02,  2.88376939e+00],\n",
       "       [ 8.08035174e-02,  4.69068983e+00],\n",
       "       [ 1.98702592e+00,  2.61100638e+00],\n",
       "       [ 1.84070628e+00,  3.56162231e+00],\n",
       "       [ 1.36069966e+00,  7.48029120e-01],\n",
       "       [ 7.43018566e+00, -2.80914363e+00],\n",
       "       [ 2.66934689e+00,  1.81987033e+00],\n",
       "       [-2.37508158e+00,  7.10478226e+00],\n",
       "       [-2.95096492e+00,  2.42456238e+00],\n",
       "       [-1.24697941e+00,  2.81973187e+00],\n",
       "       [-1.29042723e+00,  7.54857282e+00],\n",
       "       [ 8.82144116e-01,  2.84128485e+00],\n",
       "       [ 7.34782884e+00,  1.13103046e+00],\n",
       "       [-1.95295605e+00,  8.77872074e+00],\n",
       "       [-1.96786016e+00,  7.02246703e+00],\n",
       "       [-1.38195733e+00,  8.91320382e+00],\n",
       "       [ 1.02051036e+01, -1.99120464e+00],\n",
       "       [ 6.65608647e+00,  5.83191041e-01],\n",
       "       [ 2.43169305e+00, -2.01737131e-01],\n",
       "       [ 5.73093132e-01,  5.52623240e+00],\n",
       "       [-6.16725105e-01,  3.23510048e+00],\n",
       "       [-2.06976549e+00,  3.33393231e+00],\n",
       "       [ 1.14244530e+00,  2.01467995e+00],\n",
       "       [ 1.06377871e+01, -3.02061881e+00],\n",
       "       [-2.48284901e+00,  2.57190049e+00],\n",
       "       [ 1.15369622e+00,  3.90200639e+00],\n",
       "       [ 1.41942144e+00,  1.57409695e+00],\n",
       "       [ 8.67460127e+00, -3.44706661e+00],\n",
       "       [-2.47135027e+00,  2.50783257e+00],\n",
       "       [ 8.79359940e+00, -1.71081133e+00],\n",
       "       [ 5.17594779e+00,  6.36644291e-02],\n",
       "       [ 1.73730780e+00,  4.42546234e+00],\n",
       "       [ 3.41947985e-01,  3.94104616e+00],\n",
       "       [ 1.13121750e+00,  4.68194985e+00],\n",
       "       [ 3.00251949e+00,  7.42653567e-01],\n",
       "       [-1.38420548e+00,  8.97235138e+00],\n",
       "       [ 4.86339619e+00,  8.92715600e-01],\n",
       "       [-1.64770480e+00,  8.20551590e+00],\n",
       "       [ 6.17340489e+00,  2.59894196e+00],\n",
       "       [-5.01067441e-01,  6.64651506e+00],\n",
       "       [ 2.11567076e+00,  3.06896151e+00],\n",
       "       [ 1.28535145e+00,  1.43691285e+00],\n",
       "       [-1.83591698e+00,  1.24187846e+00],\n",
       "       [-7.40576051e-01,  2.45146316e+00],\n",
       "       [ 8.98141785e+00, -3.09266184e+00],\n",
       "       [-9.01672562e-01,  1.31582461e+00],\n",
       "       [ 5.31698172e+00, -4.00931464e-01],\n",
       "       [ 3.97820955e+00,  2.37817845e+00],\n",
       "       [ 4.77987230e+00,  1.39814623e+00],\n",
       "       [ 6.96309483e+00,  1.07389934e+00],\n",
       "       [-5.58437610e-01,  9.13730625e+00],\n",
       "       [ 2.06576754e+00,  2.68353415e+00],\n",
       "       [ 1.05472929e-01,  3.72493766e+00],\n",
       "       [ 8.53072481e+00,  5.03973729e-01],\n",
       "       [ 9.84054549e+00, -2.55384472e+00],\n",
       "       [-1.88089792e+00,  1.54293097e+00],\n",
       "       [ 3.54588072e+00,  8.29382810e-01],\n",
       "       [-1.88879762e-01,  5.20461381e+00],\n",
       "       [ 1.55723507e+00,  2.82719571e+00],\n",
       "       [-2.40561103e+00,  7.52316776e+00],\n",
       "       [-3.18453558e+00,  8.02423861e+00],\n",
       "       [ 6.60590671e+00,  1.60733722e+00],\n",
       "       [ 6.29763109e+00,  8.56994159e-01],\n",
       "       [ 7.57337344e+00,  1.57229279e+00],\n",
       "       [ 8.91982346e+00, -3.94764381e+00],\n",
       "       [-2.76525282e-01,  5.08127768e+00],\n",
       "       [ 1.64164854e+00,  1.50208848e-01],\n",
       "       [ 4.43841230e+00,  1.84214315e+00],\n",
       "       [ 1.33263648e+00,  5.01036050e+00],\n",
       "       [-1.35879643e+00,  8.85563273e+00],\n",
       "       [-1.00583914e+00,  2.34209429e+00],\n",
       "       [-4.75002797e-01,  6.65157938e+00],\n",
       "       [-1.89608585e+00,  2.67850308e+00],\n",
       "       [ 3.92282648e+00,  1.80370832e+00],\n",
       "       [-1.79746375e-01,  7.38207421e+00],\n",
       "       [ 9.91656968e+00, -3.90179303e+00],\n",
       "       [-1.57671974e+00,  4.95740592e+00],\n",
       "       [-1.55914195e+00,  7.93286018e+00],\n",
       "       [ 6.69709677e+00, -2.07772070e+00],\n",
       "       [ 1.09213901e+01, -2.16694187e+00],\n",
       "       [ 1.05505217e+00, -6.47107437e-01],\n",
       "       [ 3.00468833e+00,  9.85214901e-01],\n",
       "       [-2.63128735e+00,  2.97004734e+00],\n",
       "       [-2.71576327e+00,  2.41106591e+00],\n",
       "       [-2.12422008e+00,  2.67996053e+00],\n",
       "       [-1.00362735e+00,  2.74633593e+00],\n",
       "       [-7.54513997e-01,  7.71935608e+00],\n",
       "       [ 3.93841822e+00, -4.50095401e-01],\n",
       "       [ 1.10059764e+01, -1.64666852e+00],\n",
       "       [ 9.64408021e+00, -2.18910782e+00],\n",
       "       [ 4.65464941e-01,  3.12315514e+00],\n",
       "       [ 7.17865214e+00, -2.20744771e+00],\n",
       "       [-1.68917841e+00,  7.55510452e+00],\n",
       "       [-6.37627769e-01,  4.09104705e+00],\n",
       "       [ 5.88943261e-01,  4.00148458e+00],\n",
       "       [ 5.74856999e+00,  7.72191333e-01],\n",
       "       [-1.38495085e+00,  2.59855384e+00],\n",
       "       [-1.61294932e+00,  7.99216387e+00],\n",
       "       [-7.24364751e-01,  7.92388210e+00],\n",
       "       [ 8.96414077e+00, -2.56463629e+00],\n",
       "       [-6.53928268e-01,  4.76656958e+00],\n",
       "       [ 1.95681500e+00,  2.34185374e-01],\n",
       "       [ 9.85177671e+00, -1.98151517e+00],\n",
       "       [-2.12321805e+00,  2.86531497e+00],\n",
       "       [-1.15053081e+00,  8.41841370e+00],\n",
       "       [ 1.04278730e+00,  4.60625923e+00],\n",
       "       [ 1.62011397e+00,  2.74692739e+00],\n",
       "       [ 1.01311791e+01, -1.19006776e+00],\n",
       "       [-1.37039748e+00,  3.15006330e+00],\n",
       "       [-8.86772487e-01,  1.30092622e+00],\n",
       "       [ 1.19404184e+00,  2.80772861e+00],\n",
       "       [ 1.02163013e+01, -5.07084679e+00],\n",
       "       [ 8.70394316e+00, -2.06126527e+00],\n",
       "       [-2.29350914e+00,  9.04660531e+00],\n",
       "       [ 9.48087850e-01,  4.73211920e+00],\n",
       "       [ 1.31051270e+00,  7.12251213e-02],\n",
       "       [ 2.91209813e+00,  2.46638067e-01],\n",
       "       [-1.99049999e+00,  3.39936374e+00],\n",
       "       [ 8.84843309e-02,  2.32299086e+00],\n",
       "       [ 1.05566092e+00,  6.77544419e+00],\n",
       "       [ 5.55883023e+00, -1.31829571e-01],\n",
       "       [ 8.62096161e+00, -2.85235894e+00],\n",
       "       [-5.54482622e-01,  7.67588658e+00],\n",
       "       [ 2.97612635e+00,  1.21639131e+00],\n",
       "       [ 1.37861172e+00,  3.61897724e+00],\n",
       "       [ 5.64009929e-01,  1.33705536e+00],\n",
       "       [ 4.87399638e+00, -2.15218968e-01],\n",
       "       [ 1.59973502e+00,  9.15142819e-01],\n",
       "       [ 8.50911129e+00, -3.76896110e+00],\n",
       "       [ 3.18190344e+00, -1.82267848e-01],\n",
       "       [ 1.18454506e+00,  5.28042636e+00],\n",
       "       [-1.30988218e+00,  7.72815474e+00],\n",
       "       [ 6.64717546e-01,  4.35995267e+00],\n",
       "       [ 7.57514939e+00, -1.94388915e+00],\n",
       "       [ 1.42013331e+00,  4.63746165e+00],\n",
       "       [-2.55478263e+00,  9.49359070e+00],\n",
       "       [ 5.43927178e+00, -5.81522121e-01],\n",
       "       [ 4.80456548e+00,  2.27955030e-01],\n",
       "       [-3.00414636e+00,  8.28639448e+00],\n",
       "       [ 9.32275019e+00, -1.83733285e+00],\n",
       "       [ 4.81645889e+00,  5.00043639e-01],\n",
       "       [ 6.72976103e+00,  1.95286246e+00],\n",
       "       [ 8.29832003e-01,  1.74202664e+00],\n",
       "       [ 2.22194102e+00,  1.53269510e+00],\n",
       "       [ 4.65534283e+00,  1.87932647e+00],\n",
       "       [ 8.28774447e+00, -3.80300463e+00],\n",
       "       [ 2.72756228e+00,  1.30512550e+00],\n",
       "       [ 9.00552167e+00, -3.45918095e+00],\n",
       "       [-3.06770103e+00,  2.98114426e+00],\n",
       "       [-1.90066436e+00,  7.44450664e+00],\n",
       "       [ 6.29191637e+00, -3.86713619e-01],\n",
       "       [ 1.02102468e+00,  1.57925818e+00],\n",
       "       [ 9.08820154e+00, -3.13881811e+00],\n",
       "       [ 1.07398339e+01, -1.47861768e+00],\n",
       "       [-9.61912086e-01,  8.44430385e+00],\n",
       "       [ 9.07798869e-01,  4.59843615e-01],\n",
       "       [-2.17052242e+00,  6.94479109e-01],\n",
       "       [ 6.89717142e-02,  4.35573272e+00],\n",
       "       [-5.81872693e-01,  7.37474023e+00],\n",
       "       [-8.49209429e-01,  5.06286726e+00],\n",
       "       [ 6.63506557e+00,  6.56158570e-01],\n",
       "       [-3.10984241e+00,  3.52826164e+00],\n",
       "       [ 1.38093486e+00,  9.29494218e-01],\n",
       "       [ 3.81809413e+00,  3.84437617e-02],\n",
       "       [ 9.31188576e+00, -3.98788473e+00],\n",
       "       [ 6.93478510e+00,  1.87592037e+00],\n",
       "       [ 6.71033352e+00,  4.62790927e-01],\n",
       "       [ 1.70536064e+00,  4.43277024e+00],\n",
       "       [-1.94030562e+00,  9.37183707e+00],\n",
       "       [-1.93609339e+00,  6.62138261e+00],\n",
       "       [ 6.93084761e+00,  3.43682594e-01],\n",
       "       [ 1.25185786e+00,  2.08113882e-01],\n",
       "       [ 1.02027603e+01, -1.74894503e+00],\n",
       "       [ 5.36765522e+00, -8.39007718e-01],\n",
       "       [ 6.36331936e-01,  4.25441021e+00],\n",
       "       [ 7.01769098e+00, -3.35367647e+00],\n",
       "       [-1.65978459e+00,  2.62009138e+00],\n",
       "       [-3.74572448e-01,  3.99750085e+00],\n",
       "       [ 7.39360111e-01,  4.36079055e-01],\n",
       "       [ 7.15363764e+00, -3.04520423e-01],\n",
       "       [ 2.35350570e+00,  2.22404956e+00],\n",
       "       [ 6.03380096e+00,  5.27294854e-01],\n",
       "       [ 1.00399184e+01, -1.97487681e+00],\n",
       "       [-1.87634333e+00,  7.35443290e+00],\n",
       "       [-1.10064528e+00,  3.59479030e+00],\n",
       "       [ 9.06635153e+00, -1.45099071e+00],\n",
       "       [ 5.36563657e+00, -1.62354289e+00],\n",
       "       [ 6.70346425e+00,  8.54770301e-01],\n",
       "       [-1.54392443e+00,  3.29703400e+00],\n",
       "       [ 9.55369692e+00, -3.32429323e+00],\n",
       "       [ 1.02202860e+00,  4.11660348e+00],\n",
       "       [-2.34026827e+00,  1.45145793e+00],\n",
       "       [ 7.32404937e-01,  2.87562511e+00],\n",
       "       [ 1.01148865e+01, -2.58062820e+00],\n",
       "       [-1.93226667e+00,  9.49501081e+00],\n",
       "       [ 3.24329731e+00,  1.21460627e+00],\n",
       "       [-7.30000112e-01,  6.25456272e+00],\n",
       "       [ 7.82672051e+00, -1.53087167e+00],\n",
       "       [-8.35365262e-01,  3.61263140e+00],\n",
       "       [-3.27894024e+00,  9.89995288e+00],\n",
       "       [ 2.47034915e+00,  4.09862906e+00],\n",
       "       [-1.40592279e+00,  1.00921835e+01],\n",
       "       [-2.25250139e+00,  1.53451831e+00],\n",
       "       [ 9.97171236e+00, -2.32739873e+00],\n",
       "       [-1.56618683e+00,  1.74978876e+00],\n",
       "       [ 1.28933778e+00,  3.44969159e+00],\n",
       "       [ 5.05187161e+00,  4.67509096e-01],\n",
       "       [-1.63313558e+00,  7.92981160e+00],\n",
       "       [ 4.66617897e-01,  3.86571303e+00],\n",
       "       [ 1.78726415e+00,  1.70012006e+00],\n",
       "       [-9.44825430e-02,  5.35823905e+00],\n",
       "       [-2.26646701e+00,  4.46089686e+00],\n",
       "       [-2.81976092e+00,  3.18493313e+00],\n",
       "       [ 3.24602470e+00,  2.84942165e+00],\n",
       "       [ 7.84782523e-01,  1.86706037e+00],\n",
       "       [-4.27244417e-01,  3.57314599e+00],\n",
       "       [ 6.21723319e+00,  5.43656115e-01],\n",
       "       [ 1.63123797e-01,  2.57750473e+00],\n",
       "       [ 5.39531124e+00,  7.59236824e-01],\n",
       "       [ 5.48705011e+00, -3.37008180e-03],\n",
       "       [-3.24194687e-02,  8.47897236e-01],\n",
       "       [-2.58251425e+00,  6.48874251e+00],\n",
       "       [ 5.78879680e+00,  7.98406051e-01],\n",
       "       [-1.55123014e+00,  2.17985135e+00],\n",
       "       [ 4.20186624e+00, -9.89869329e-01],\n",
       "       [ 6.28357929e-01,  4.46013630e+00],\n",
       "       [ 5.33168406e+00,  2.99035207e+00],\n",
       "       [-2.68308645e+00,  3.69908036e+00],\n",
       "       [ 7.50471676e+00, -1.97568783e+00]])"
      ]
     },
     "execution_count": 13,
     "metadata": {},
     "output_type": "execute_result"
    },
    {
     "name": "stdout",
     "output_type": "stream",
     "text": [
      "\n",
      "\n"
     ]
    }
   ],
   "source": [
    "ctx.generate_dataset = generate_dataset  # Python function \"generate_dataset\" => Seamless transformer ctx.generate_dataset\n",
    "ctx.generate_dataset.delay = 0\n",
    "ctx.generate_dataset.n_clusters = 6\n",
    "ctx.generate_dataset.n_samples = 250\n",
    "ctx.generate_dataset.random_state = 0\n",
    "\n",
    "ctx.generated_dataset = ctx.generate_dataset.result\n",
    "ctx.dataset = ctx.generated_dataset[0]\n",
    "ctx.dataset.celltype = \"binary\"    # \"binary\" means \"Numpy array\"\n",
    "ctx.dataset_classes = ctx.generated_dataset[1]\n",
    "ctx.dataset_classes.celltype = \"binary\"\n",
    "\n",
    "await ctx.computation()\n",
    "print(ctx.generate_dataset.status, \"Exception: \", ctx.generate_dataset.exception)\n",
    "print(\"Result:\")\n",
    "ctx.dataset.value"
   ]
  },
  {
   "cell_type": "markdown",
   "id": "d529ffeb-1fcf-4526-a135-57dd1b672171",
   "metadata": {
    "tags": []
   },
   "source": [
    "### **2. Plot without clustering**"
   ]
  },
  {
   "cell_type": "code",
   "execution_count": 14,
   "id": "efa4a9a6-181c-4ac8-af73-0f67cbdf20e6",
   "metadata": {
    "tags": []
   },
   "outputs": [
    {
     "name": "stdout",
     "output_type": "stream",
     "text": [
      "Status: OK Exception: None\n"
     ]
    }
   ],
   "source": [
    "ctx.plot_dataset = plot_dataset   # Python function \"plot_dataset\" => Seamless transformer ctx.plot_dataset\n",
    "ctx.plot_dataset.dataset = ctx.dataset\n",
    "ctx.plot_dataset.colors = ctx.dataset_classes\n",
    "ctx.plot = ctx.plot_dataset.result\n",
    "ctx.plot.celltype = \"bytes\"\n",
    "ctx.plot.mimetype = \"png\"\n",
    "await ctx.computation()\n",
    "print(ctx.plot.status, \"Exception:\", ctx.plot_dataset.exception)"
   ]
  },
  {
   "cell_type": "code",
   "execution_count": 15,
   "id": "22ec238f-8b5c-4a03-8485-a2cc43015dd7",
   "metadata": {},
   "outputs": [
    {
     "data": {
      "image/png": "[encoded data removed]",
      "text/plain": [
       "<IPython.core.display.Image object>"
      ]
     },
     "execution_count": 15,
     "metadata": {},
     "output_type": "execute_result"
    }
   ],
   "source": [
    "Image(ctx.plot.value)"
   ]
  },
  {
   "cell_type": "markdown",
   "id": "e0147e3d-97ef-4652-9314-42d14ffd21c6",
   "metadata": {},
   "source": [
    "### Add some cells that control the workflow parameters\n"
   ]
  },
  {
   "cell_type": "code",
   "execution_count": 16,
   "id": "86503773-9994-48fc-b259-7cb3a0446ec2",
   "metadata": {},
   "outputs": [],
   "source": [
    "ctx.delay = Cell(\"float\").set(0)\n",
    "ctx.random_state = Cell(\"int\").set(0)\n",
    "ctx.generate_dataset.delay = ctx.delay\n",
    "ctx.generate_dataset.random_state = ctx.random_state\n",
    "\n",
    "await ctx.computation()"
   ]
  },
  {
   "cell_type": "markdown",
   "id": "9f652b6d-120a-4958-801f-0ef25ede7041",
   "metadata": {},
   "source": [
    "### Generate a little Jupyter dashboard to control the workflow\n",
    "\n",
    "#### Changing the random state will change the graph\n",
    "\n",
    "#### Increasing the \"delay\" slider will slow down execution\n",
    "\n",
    "#### Once execution has finished, the plot will be updated"
   ]
  },
  {
   "cell_type": "code",
   "execution_count": 17,
   "id": "e6d97452-3d41-46c7-a52a-a722d4e99bff",
   "metadata": {
    "tags": []
   },
   "outputs": [
    {
     "data": {
      "application/vnd.jupyter.widget-view+json": {
       "model_id": "c220da6fa551404481084b015d4db5a5",
       "version_major": 2,
       "version_minor": 0
      },
      "text/plain": [
       "IntSlider(value=0, description='Rand state')"
      ]
     },
     "metadata": {},
     "output_type": "display_data"
    },
    {
     "data": {
      "application/vnd.jupyter.widget-view+json": {
       "model_id": "868f01f6158d4750a2a1c31cdb11bf8e",
       "version_major": 2,
       "version_minor": 0
      },
      "text/plain": [
       "FloatSlider(value=0.0, description='Delay', max=10.0)"
      ]
     },
     "metadata": {},
     "output_type": "display_data"
    },
    {
     "name": "stdout",
     "output_type": "stream",
     "text": [
      "Plot\n"
     ]
    },
    {
     "data": {
      "application/vnd.jupyter.widget-view+json": {
       "model_id": "58f85368e4e34dfbb35f785f2387d1a8",
       "version_major": 2,
       "version_minor": 0
      },
      "text/plain": [
       "Output(outputs=({'output_type': 'display_data', 'data': {'image/png': 'iVBORw0KGgoAAAANSUhEUgAAAbAAAAEgCAYAAAD…"
      ]
     },
     "metadata": {},
     "output_type": "display_data"
    }
   ],
   "source": [
    "from ipywidgets import IntSlider, FloatSlider\n",
    "\n",
    "widget_random_state = IntSlider(min=0,max=100, description=\"Rand state\")\n",
    "widget_delay = FloatSlider(min=0,max=10, description=\"Delay\")\n",
    "ctx.random_state.traitlet().link(widget_random_state)\n",
    "ctx.delay.traitlet().link(widget_delay)\n",
    "\n",
    "display(widget_random_state)\n",
    "display(widget_delay)\n",
    "print(\"Plot\")\n",
    "display(ctx.plot.output())"
   ]
  },
  {
   "cell_type": "markdown",
   "id": "9663172d-9617-414d-b0dd-67fa5ef66893",
   "metadata": {},
   "source": [
    "#### The cells can still be changed programmatically. \n",
    "#### This will update the slider above, and re-build the plot"
   ]
  },
  {
   "cell_type": "code",
   "execution_count": 18,
   "id": "493b57c3-6570-4f90-978b-4b2f7f05e8d9",
   "metadata": {},
   "outputs": [],
   "source": [
    "ctx.random_state = 6"
   ]
  },
  {
   "cell_type": "markdown",
   "id": "16abb7a9-a6b2-4667-9707-785c44cec16a",
   "metadata": {
    "tags": []
   },
   "source": [
    "### **3. Plot with clustering**"
   ]
  },
  {
   "cell_type": "code",
   "execution_count": 19,
   "id": "8a81dfc6-92fa-4074-a865-9c266de630f6",
   "metadata": {
    "tags": []
   },
   "outputs": [],
   "source": [
    "ctx.k = Cell(\"int\").set(3)\n",
    "ctx.get_clustering = get_clustering  # Python function \"get_clustering\" => Seamless transformer ctx.get_clustering\n",
    "ctx.get_clustering.dataset = ctx.dataset\n",
    "ctx.get_clustering.k = ctx.k\n",
    "ctx.clustering = ctx.get_clustering.result\n",
    "ctx.clustering.celltype = \"binary\"\n",
    "ctx.plot_dataset.colors = ctx.clustering\n",
    "await ctx.computation()"
   ]
  },
  {
   "cell_type": "markdown",
   "id": "d1df90ca-8d39-4df1-aa0b-aa9f93ab9d5b",
   "metadata": {},
   "source": [
    "### Generate a new Jupyter dashboard to control the updated workflow"
   ]
  },
  {
   "cell_type": "code",
   "execution_count": 21,
   "id": "05573b73-83a3-4a4b-b8c5-e4af380508e4",
   "metadata": {},
   "outputs": [
    {
     "data": {
      "application/vnd.jupyter.widget-view+json": {
       "model_id": "064d6e38b78a4961aa04de6fde81ec0e",
       "version_major": 2,
       "version_minor": 0
      },
      "text/plain": [
       "IntSlider(value=6, description='Rand state')"
      ]
     },
     "metadata": {},
     "output_type": "display_data"
    },
    {
     "data": {
      "application/vnd.jupyter.widget-view+json": {
       "model_id": "0f1a892f35d742dd8b27d9a5e977a87b",
       "version_major": 2,
       "version_minor": 0
      },
      "text/plain": [
       "FloatSlider(value=0.0, description='Delay', max=10.0)"
      ]
     },
     "metadata": {},
     "output_type": "display_data"
    },
    {
     "data": {
      "application/vnd.jupyter.widget-view+json": {
       "model_id": "d929d6bfe260447fa73c8a3c062a711d",
       "version_major": 2,
       "version_minor": 0
      },
      "text/plain": [
       "IntSlider(value=9, description='K Clusters', max=20, min=1)"
      ]
     },
     "metadata": {},
     "output_type": "display_data"
    },
    {
     "name": "stdout",
     "output_type": "stream",
     "text": [
      "Plot\n"
     ]
    },
    {
     "data": {
      "application/vnd.jupyter.widget-view+json": {
       "model_id": "3cd1b27541c74e11a4f468de7f4450b0",
       "version_major": 2,
       "version_minor": 0
      },
      "text/plain": [
       "Output(outputs=({'output_type': 'display_data', 'data': {'image/png': 'iVBORw0KGgoAAAANSUhEUgAAAbAAAAEgCAYAAAD…"
      ]
     },
     "metadata": {},
     "output_type": "display_data"
    }
   ],
   "source": [
    "widget_random_state = IntSlider(min=0,max=100, description=\"Rand state\")\n",
    "widget_delay = FloatSlider(min=0,max=10, description=\"Delay\")\n",
    "widget_k = IntSlider(min=1,max=20, description=\"K Clusters\")\n",
    "ctx.random_state.traitlet().link(widget_random_state)\n",
    "ctx.delay.traitlet().link(widget_delay)\n",
    "ctx.k.traitlet().link(widget_k)\n",
    "\n",
    "display(widget_random_state)\n",
    "display(widget_delay)\n",
    "display(widget_k)\n",
    "print(\"Plot\")\n",
    "display(ctx.plot.output())"
   ]
  },
  {
   "cell_type": "markdown",
   "id": "1e06b6fc-b0c0-411e-a186-e839dee0c9a9",
   "metadata": {},
   "source": [
    "# Building a web server\n",
    "### Now we will share the plot directly over the web"
   ]
  },
  {
   "cell_type": "code",
   "execution_count": 22,
   "id": "caae79a6-7d6a-4c43-a19d-16e6488156da",
   "metadata": {},
   "outputs": [],
   "source": [
    "ctx.plot.share()\n",
    "await ctx.translation()"
   ]
  },
  {
   "cell_type": "markdown",
   "id": "08a3de41-9ae6-4d5d-aa0a-7024f8f95a48",
   "metadata": {},
   "source": [
    "### BinderHub only: unify the Seamless ports\n",
    "(This allows us to serve Seamless HTTP cells and the Seamless web interface through JupyterLab, because we can't access localhost)"
   ]
  },
  {
   "cell_type": "code",
   "execution_count": 23,
   "id": "1265f118-546a-4826-8d3f-770a91f9c2dd",
   "metadata": {
    "tags": []
   },
   "outputs": [],
   "source": [
    "from seamless import shareserver\n",
    "cmd = \"python3 ~/seamless-scripts/webproxy.py 6543 http://localhost:{0} ws://localhost:{1}\".format(shareserver.rest_port, shareserver.update_port)\n",
    "get_ipython().run_cell_magic('script', 'bash --bg --out webproxy.log', cmd)"
   ]
  },
  {
   "cell_type": "code",
   "execution_count": 24,
   "id": "aa03301b-2e8b-4495-a90b-bf293501a493",
   "metadata": {
    "tags": []
   },
   "outputs": [
    {
     "data": {
      "application/javascript": "let base = window.location.protocol + \"//\" + window.location.hostname\nif (window.location.port != 80) {\n    base = base + \":\" + window.location.port\n}\nlet v = window.location.pathname\nlet vv = v.split(\"/\")\nfor (let i = 1; i < vv.length - 1; i++) {\n    if ((vv[i] == \"lab\" || vv[i] == \"doc\") && vv[i+1] == \"tree\") {\n        window.JUPYTERLAB_URL = base + vv.slice(0, i).join(\"/\") + \"/proxy/6543\" \n        break\n    }\n}\n",
      "text/plain": [
       "<IPython.core.display.Javascript object>"
      ]
     },
     "metadata": {},
     "output_type": "display_data"
    }
   ],
   "source": [
    "%%javascript\n",
    "let base = window.location.protocol + \"//\" + window.location.hostname\n",
    "if (window.location.port != 80) {\n",
    "    base = base + \":\" + window.location.port\n",
    "}\n",
    "let v = window.location.pathname\n",
    "let vv = v.split(\"/\")\n",
    "for (let i = 1; i < vv.length - 1; i++) {\n",
    "    if ((vv[i] == \"lab\" || vv[i] == \"doc\") && vv[i+1] == \"tree\") {\n",
    "        window.JUPYTERLAB_URL = base + vv.slice(0, i).join(\"/\") + \"/proxy/6543\" \n",
    "        break\n",
    "    }\n",
    "}\n"
   ]
  },
  {
   "cell_type": "markdown",
   "id": "28834e9f-37c7-4088-bb65-468fe67eb9b9",
   "metadata": {
    "tags": []
   },
   "source": [
    "### The following link will display the plot"
   ]
  },
  {
   "cell_type": "code",
   "execution_count": 28,
   "id": "5b11690d-cf08-4606-93ea-5d6e252fdfba",
   "metadata": {
    "tags": []
   },
   "outputs": [
    {
     "data": {
      "application/javascript": "var ele = document.createElement(\"div\")\nelement.append(ele)\nele.innerHTML = \"<b><a href=\\\"\" + window.JUPYTERLAB_URL  + \"/ctx/plot\\\" target=\\\"_blank\\\"> Click here to display the generated plot in a new tab </a></b>\"\n",
      "text/plain": [
       "<IPython.core.display.Javascript object>"
      ]
     },
     "metadata": {},
     "output_type": "display_data"
    }
   ],
   "source": [
    "%%javascript\n",
    "var ele = document.createElement(\"div\")\n",
    "element.append(ele)\n",
    "ele.innerHTML = \"<b><a href=\\\"\" + window.JUPYTERLAB_URL  + \"/ctx/plot\\\" target=\\\"_blank\\\"> Click here to display the generated plot in a new tab </a></b>\"\n"
   ]
  },
  {
   "cell_type": "markdown",
   "id": "cb76c4f8-a014-4c12-bcf7-120dd96ef3d8",
   "metadata": {
    "tags": []
   },
   "source": [
    "### We can do the same for the input parameters. \n",
    "#### In fact, the URL is the same, ending with **/ctx/random_state** and **/ctx/delay** instead of **/ctx/plot**"
   ]
  },
  {
   "cell_type": "code",
   "execution_count": 29,
   "id": "d249b5a4-6c4b-4e00-81a5-c8280949d063",
   "metadata": {},
   "outputs": [],
   "source": [
    "ctx.random_state.share(readonly=False)  # readonly=False, so we can modify it via the web page\n",
    "ctx.delay.share(readonly=False)\n",
    "ctx.k.share(readonly=False)\n",
    "await ctx.computation()"
   ]
  },
  {
   "cell_type": "code",
   "execution_count": 30,
   "id": "744bfcb1-82e1-4f4d-b564-360cb6a654a9",
   "metadata": {
    "tags": []
   },
   "outputs": [
    {
     "data": {
      "application/javascript": "var ele = document.createElement(\"div\")\nelement.append(ele)\nele.innerHTML = \"<b><a href=\\\"\" + window.JUPYTERLAB_URL  + \"/ctx/random_state\\\" target=\\\"_blank\\\"> Click here for ctx.random state (new tab) </a></b>\"\nele = document.createElement(\"div\")\nelement.append(ele)\nele.innerHTML = \"<b><a href=\\\"\" + window.JUPYTERLAB_URL  + \"/ctx/delay\\\" target=\\\"_blank\\\"> Click here for ctx.delay (new tab) </a></b>\"\nele = document.createElement(\"div\")\nelement.append(ele)\nele.innerHTML = \"<b><a href=\\\"\" + window.JUPYTERLAB_URL  + \"/ctx/k\\\" target=\\\"_blank\\\"> Click here for ctx.k (new tab) </a></b>\"\n",
      "text/plain": [
       "<IPython.core.display.Javascript object>"
      ]
     },
     "metadata": {},
     "output_type": "display_data"
    }
   ],
   "source": [
    "%%javascript\n",
    "var ele = document.createElement(\"div\")\n",
    "element.append(ele)\n",
    "ele.innerHTML = \"<b><a href=\\\"\" + window.JUPYTERLAB_URL  + \"/ctx/random_state\\\" target=\\\"_blank\\\"> Click here for ctx.random state (new tab) </a></b>\"\n",
    "ele = document.createElement(\"div\")\n",
    "element.append(ele)\n",
    "ele.innerHTML = \"<b><a href=\\\"\" + window.JUPYTERLAB_URL  + \"/ctx/delay\\\" target=\\\"_blank\\\"> Click here for ctx.delay (new tab) </a></b>\"\n",
    "ele = document.createElement(\"div\")\n",
    "element.append(ele)\n",
    "ele.innerHTML = \"<b><a href=\\\"\" + window.JUPYTERLAB_URL  + \"/ctx/k\\\" target=\\\"_blank\\\"> Click here for ctx.k (new tab) </a></b>\"\n"
   ]
  },
  {
   "cell_type": "markdown",
   "id": "4d799d0d-7ec1-4565-87b5-c38f0e271021",
   "metadata": {
    "tags": []
   },
   "source": [
    "## Auto-generated web interface\n",
    "### Seamless projects embed a generator for a web interface. Shared cells are added automatically.\n",
    "### It also maintains a status web page that visualizes the workflow graph, and its execution status\n",
    "### The following links will display them"
   ]
  },
  {
   "cell_type": "code",
   "execution_count": 31,
   "id": "c9a2c842-25f0-4321-8154-1316b2dc727e",
   "metadata": {
    "tags": []
   },
   "outputs": [
    {
     "data": {
      "application/javascript": "var ele = document.createElement(\"div\")\nelement.append(ele)\nele.innerHTML = \"<b><a href=\\\"\" + window.JUPYTERLAB_URL  + \"/status/index.html\\\" target=\\\"_blank\\\"> Click here to display the web page in a new tab </a></b>\"\nele = document.createElement(\"div\")\nelement.append(ele)\nele.innerHTML = \"<b><a href=\\\"\" + window.JUPYTERLAB_URL + \"/status/status.html\\\" target=\\\"_blank\\\"> Click here to display the status page in a new tab </a></b>\"\n\n",
      "text/plain": [
       "<IPython.core.display.Javascript object>"
      ]
     },
     "metadata": {},
     "output_type": "display_data"
    }
   ],
   "source": [
    "%%javascript\n",
    "var ele = document.createElement(\"div\")\n",
    "element.append(ele)\n",
    "ele.innerHTML = \"<b><a href=\\\"\" + window.JUPYTERLAB_URL  + \"/status/index.html\\\" target=\\\"_blank\\\"> Click here to display the web page in a new tab </a></b>\"\n",
    "ele = document.createElement(\"div\")\n",
    "element.append(ele)\n",
    "ele.innerHTML = \"<b><a href=\\\"\" + window.JUPYTERLAB_URL + \"/status/status.html\\\" target=\\\"_blank\\\"> Click here to display the status page in a new tab </a></b>\"\n",
    "\n"
   ]
  },
  {
   "cell_type": "markdown",
   "id": "76e21049-5ae2-471c-8fca-5b71732dc8fa",
   "metadata": {},
   "source": [
    "\n",
    "#### The cell values are in sync with the Jupyter dashboard above. \n",
    "\n",
    "#### The web interface is also collaborative. When multiple users connect, their updates are synchronized as well."
   ]
  },
  {
   "cell_type": "markdown",
   "id": "5dd2d6ce-b499-4575-a94d-aa94e8c6860e",
   "metadata": {},
   "source": [
    "## Customizing the web interface\n",
    "### Edit the files in the /web directory to customize the web interface.\n",
    "### The web page can be customized at different levels. The web page is updated immediately upon browser refresh.\n",
    "- **Customizing webform.json**\n",
    "\n",
    "  For example, you can copy `webform-CUSTOM.json` to `web/webform.json`. This will show the output plot in the webform.\n",
    "\n",
    "- **Modifying the generated index.html and index.js by hand**\n",
    "\n",
    "- **Modifying the webform.json components in /web/components**\n",
    "\n",
    "### Modifications can lead to merge conflicts, that must be resolved in the -CONFLICT files"
   ]
  },
  {
   "cell_type": "code",
   "execution_count": 32,
   "id": "2b22830a-a31c-48f9-81c3-2c1ee55c6d42",
   "metadata": {},
   "outputs": [],
   "source": [
    "#!cp webform-CUSTOM.json web/webform.json"
   ]
  }
 ],
 "metadata": {
  "kernelspec": {
   "display_name": "Python 3",
   "language": "python",
   "name": "python3"
  },
  "language_info": {
   "codemirror_mode": {
    "name": "ipython",
    "version": 3
   },
   "file_extension": ".py",
   "mimetype": "text/x-python",
   "name": "python",
   "nbconvert_exporter": "python",
   "pygments_lexer": "ipython3",
   "version": "3.8.10"
  }
 },
 "nbformat": 4,
 "nbformat_minor": 5
}
