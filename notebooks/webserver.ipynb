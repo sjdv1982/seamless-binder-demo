{
 "cells": [
  {
   "cell_type": "markdown",
   "id": "20112848-9920-4451-a1ab-b4e73aec209a",
   "metadata": {
    "tags": []
   },
   "source": [
    "# Interactive collaborative web server"
   ]
  },
  {
   "cell_type": "markdown",
   "id": "4396ba54-13bd-4613-a748-c16accb5e313",
   "metadata": {},
   "source": [
    "### 1. Create a new Seamless project\n",
    "(If Seamless has been installed locally, you would use `seamless-new-project demo-webserver`)"
   ]
  },
  {
   "cell_type": "code",
   "execution_count": 1,
   "id": "7c152adc-390a-482f-8b19-ea52c98f7ccb",
   "metadata": {
    "tags": []
   },
   "outputs": [],
   "source": [
    "import os\n",
    "if not os.path.exists(\"web/\"):\n",
    "    os.system(\"python3 ...\")"
   ]
  },
  {
   "cell_type": "markdown",
   "id": "81836a98-499e-4ead-881e-202dc96a016c",
   "metadata": {},
   "source": [
    "### 2. Set up a simple Seamless context"
   ]
  },
  {
   "cell_type": "code",
   "execution_count": 2,
   "id": "e2e04b4d-1108-4095-a0eb-7f12e2b91209",
   "metadata": {},
   "outputs": [
    {
     "data": {
      "text/plain": [
       "<Silk: 30 >"
      ]
     },
     "execution_count": 2,
     "metadata": {},
     "output_type": "execute_result"
    }
   ],
   "source": [
    "def add(a, b):\n",
    "    return a + b\n",
    "\n",
    "ctx.a = 10          # ctx.a => Seamless cell\n",
    "ctx.b = 20          # ctx.b => Seamless cell\n",
    "ctx.add = add       # ctx.add => Seamless transformer\n",
    "ctx.add.a = ctx.a\n",
    "ctx.add.b = ctx.b\n",
    "ctx.c = ctx.add     # ctx.c => Seamless cell\n",
    "await ctx.computation()\n",
    "ctx.c.value"
   ]
  },
  {
   "cell_type": "code",
   "execution_count": 1,
   "id": "7918b47c-3ed2-4ddb-8b7e-94ceb5a4a5c1",
   "metadata": {
    "tags": []
   },
   "outputs": [],
   "source": [
    "from seamless.highlevel import Context\n",
    "ctx = Context()"
   ]
  },
  {
   "cell_type": "markdown",
   "id": "16f36003-1544-4261-a15f-5c3a4d305adf",
   "metadata": {},
   "source": [
    "### 2. Set up a simple Seamless context"
   ]
  },
  {
   "cell_type": "code",
   "execution_count": 2,
   "id": "6c4cc5a8-ab3a-4577-ad63-4c60a3918b93",
   "metadata": {},
   "outputs": [
    {
     "data": {
      "text/plain": [
       "<Silk: 30 >"
      ]
     },
     "execution_count": 2,
     "metadata": {},
     "output_type": "execute_result"
    }
   ],
   "source": [
    "def add(a, b):\n",
    "    return a + b\n",
    "\n",
    "ctx.a = 10          # ctx.a => Seamless cell\n",
    "ctx.b = 20          # ctx.b => Seamless cell\n",
    "ctx.add = add       # ctx.add => Seamless transformer\n",
    "ctx.add.a = ctx.a\n",
    "ctx.add.b = ctx.b\n",
    "ctx.c = ctx.add     # ctx.c => Seamless cell\n",
    "await ctx.computation()\n",
    "ctx.c.value"
   ]
  }
 ],
 "metadata": {
  "kernelspec": {
   "display_name": "Python 3",
   "language": "python",
   "name": "python3"
  },
  "language_info": {
   "codemirror_mode": {
    "name": "ipython",
    "version": 3
   },
   "file_extension": ".py",
   "mimetype": "text/x-python",
   "name": "python",
   "nbconvert_exporter": "python",
   "pygments_lexer": "ipython3",
   "version": "3.8.8"
  }
 },
 "nbformat": 4,
 "nbformat_minor": 5
}
