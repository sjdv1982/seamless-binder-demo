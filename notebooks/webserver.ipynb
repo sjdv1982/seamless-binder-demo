{
 "cells": [
  {
   "cell_type": "markdown",
   "id": "20112848-9920-4451-a1ab-b4e73aec209a",
   "metadata": {
    "tags": []
   },
   "source": [
    "# Interactive collaborative web server"
   ]
  },
  {
   "cell_type": "markdown",
   "id": "4396ba54-13bd-4613-a748-c16accb5e313",
   "metadata": {},
   "source": [
    "### 1. Create a new Seamless project\n",
    "(If Seamless is installed locally, you would use the `seamless-new-project` command instead)"
   ]
  },
  {
   "cell_type": "code",
   "execution_count": 1,
   "id": "7c152adc-390a-482f-8b19-ea52c98f7ccb",
   "metadata": {
    "tags": []
   },
   "outputs": [
    {
     "data": {
      "text/plain": [
       "0"
      ]
     },
     "execution_count": 1,
     "metadata": {},
     "output_type": "execute_result"
    }
   ],
   "source": [
    "import os\n",
    "if not os.path.exists(\"web/\"):\n",
    "    os.system(\"python3 ~/seamless-scripts/new-project.py webserver-demo\")\n",
    "else:\n",
    "    # To avoid merge conflicts, remove all existing customized web content\n",
    "    os.system(\"rm -f web/webform.json web/index.html web/index.js web/*CONFLICT.*\")\n",
    "# new-project.py will generate a default Notebook for the project. Link it to the current notebook instead\n",
    "os.system(\"rm -f webserver-demo.ipynb\")\n",
    "os.system(\"ln -s webserver.ipynb webserver-demo.ipynb\")"
   ]
  },
  {
   "cell_type": "markdown",
   "id": "81836a98-499e-4ead-881e-202dc96a016c",
   "metadata": {},
   "source": [
    "### 2. Load the project"
   ]
  },
  {
   "cell_type": "code",
   "execution_count": 2,
   "id": "e2e04b4d-1108-4095-a0eb-7f12e2b91209",
   "metadata": {
    "tags": []
   },
   "outputs": [
    {
     "name": "stderr",
     "output_type": "stream",
     "text": [
      "*** define_graph() function is empty. Loading 'graph/webserver-demo.seamless' ***\n",
      "\n",
      "/home/jovyan/software/seamless/core/mount.py:121: RuntimeWarning: coroutine 'sleep' was never awaited\n",
      "  pass\n",
      "RuntimeWarning: Enable tracemalloc to get the object allocation traceback\n",
      "Project loaded.\n",
      "\n",
      "    Main context is \"ctx\"\n",
      "    Web/status context is \"webctx\"\n",
      "\n",
      "    Open http://localhost:<REST server port> to see the web page\n",
      "    Open http://localhost:<REST server port>/status/status.html to see the status\n",
      "\n",
      "    Run save() to save the project\n",
      "    \n"
     ]
    },
    {
     "name": "stdout",
     "output_type": "stream",
     "text": [
      "Warning: File path 'web/generate-webpage.py' has a different value, overwriting cell\n",
      "Warning: File path 'web/components' has a different value, overwriting cell\n",
      "Opened the seamless share update server at port 5138\n",
      "Opened the seamless REST server at port 5813\n"
     ]
    }
   ],
   "source": [
    "%run -i load-project.py\n",
    "await load()\n",
    "import asyncio\n",
    "await asyncio.sleep(1)"
   ]
  },
  {
   "cell_type": "markdown",
   "id": "c78fa932-33c9-48c7-8b71-6d65ba5d1736",
   "metadata": {},
   "source": [
    "### 3. Make Seamless available over port 3124"
   ]
  },
  {
   "cell_type": "code",
   "execution_count": 3,
   "id": "73e75521-3325-452b-8959-a17857658443",
   "metadata": {
    "tags": []
   },
   "outputs": [],
   "source": [
    "from seamless import shareserver\n",
    "cmd = \"python3 ~/seamless-scripts/webproxy.py 3124 http://localhost:{0} ws://localhost:{1}\".format(shareserver.rest_port, shareserver.update_port)\n",
    "get_ipython().run_cell_magic('script', 'bash --bg --out webproxy.log', cmd)"
   ]
  },
  {
   "cell_type": "markdown",
   "id": "13137a14-a357-4b2d-abf6-b97be96de5c3",
   "metadata": {
    "tags": []
   },
   "source": [
    "### 4. The following links will display the web server\n",
    "(The contents will be empty until we define a workflow)"
   ]
  },
  {
   "cell_type": "code",
   "execution_count": 4,
   "id": "65818340-3b47-4232-8bda-dfbb3f620ab2",
   "metadata": {
    "jupyter": {
     "source_hidden": true
    },
    "tags": []
   },
   "outputs": [
    {
     "data": {
      "application/javascript": [
       "let base = window.location.protocol + \"//\" + window.location.hostname\n",
       "let v = window.location.pathname\n",
       "let vv = v.split(\"/\")\n",
       "for (let i = 1; i < vv.length - 1; i++) {\n",
       "    if (vv[i] == \"lab\" && vv[i+1] == \"tree\") {\n",
       "        window.JUPYTERLAB_URL = base + vv.slice(0, i).join(\"/\") + \"/proxy/3124\" \n",
       "        break\n",
       "    }\n",
       "}\n"
      ],
      "text/plain": [
       "<IPython.core.display.Javascript object>"
      ]
     },
     "metadata": {},
     "output_type": "display_data"
    }
   ],
   "source": [
    "%%javascript\n",
    "let base = window.location.protocol + \"//\" + window.location.hostname\n",
    "let v = window.location.pathname\n",
    "let vv = v.split(\"/\")\n",
    "for (let i = 1; i < vv.length - 1; i++) {\n",
    "    if (vv[i] == \"lab\" && vv[i+1] == \"tree\") {\n",
    "        window.JUPYTERLAB_URL = base + vv.slice(0, i).join(\"/\") + \"/proxy/3124\" \n",
    "        break\n",
    "    }\n",
    "}\n"
   ]
  },
  {
   "cell_type": "code",
   "execution_count": 5,
   "id": "f973da15-822d-4be6-acba-dba667b4a482",
   "metadata": {
    "jupyter": {
     "source_hidden": true
    },
    "tags": []
   },
   "outputs": [
    {
     "data": {
      "application/javascript": [
       "var ele = document.createElement(\"div\")\n",
       "element.append(ele)\n",
       "ele.innerHTML = \"<b><a href=\\\"\" + window.JUPYTERLAB_URL  + \"/status/index.html\\\" target=\\\"_blank\\\"> Click here to display the web page in a new tab </a></b>\"\n",
       "ele = document.createElement(\"div\")\n",
       "element.append(ele)\n",
       "ele.innerHTML = \"<b><a href=\\\"\" + window.JUPYTERLAB_URL + \"/status/status.html\\\" target=\\\"_blank\\\"> Click here to display the status page in a new tab </a></b>\"\n",
       "\n"
      ],
      "text/plain": [
       "<IPython.core.display.Javascript object>"
      ]
     },
     "metadata": {},
     "output_type": "display_data"
    }
   ],
   "source": [
    "%%javascript\n",
    "var ele = document.createElement(\"div\")\n",
    "element.append(ele)\n",
    "ele.innerHTML = \"<b><a href=\\\"\" + window.JUPYTERLAB_URL  + \"/status/index.html\\\" target=\\\"_blank\\\"> Click here to display the web page in a new tab </a></b>\"\n",
    "ele = document.createElement(\"div\")\n",
    "element.append(ele)\n",
    "ele.innerHTML = \"<b><a href=\\\"\" + window.JUPYTERLAB_URL + \"/status/status.html\\\" target=\\\"_blank\\\"> Click here to display the status page in a new tab </a></b>\"\n",
    "\n"
   ]
  },
  {
   "cell_type": "markdown",
   "id": "bb92c293-8a3d-44e8-8d7f-077bcec3c858",
   "metadata": {},
   "source": [
    "### 5. Define a two-step workflow: generate a dataset, and then plot it"
   ]
  },
  {
   "cell_type": "code",
   "execution_count": 6,
   "id": "686c1d08-9e53-406d-bc4a-8d9a0b5065f9",
   "metadata": {},
   "outputs": [
    {
     "name": "stdout",
     "output_type": "stream",
     "text": [
      "\n",
      "\n",
      "\n",
      "Status: OK Exception:  None\n",
      "Result:\n"
     ]
    },
    {
     "data": {
      "text/plain": [
       "array([[-1.98272936,  4.34404101],\n",
       "       [ 3.48086036, -0.42724604],\n",
       "       [ 0.77557835,  0.31223246],\n",
       "       ...,\n",
       "       [-2.55838647,  1.487891  ],\n",
       "       [ 0.10718693,  7.43731189],\n",
       "       [-0.99270284,  3.23576736]])"
      ]
     },
     "execution_count": 6,
     "metadata": {},
     "output_type": "execute_result"
    }
   ],
   "source": [
    "def generate_dataset(n_samples, random_state, delay, n_clusters):\n",
    "    # create artifical delay, so that the status graph can be monitored\n",
    "    import time\n",
    "    time.sleep(delay)\n",
    "    \n",
    "    from sklearn.datasets import make_blobs\n",
    "    dataset, dataset_classes = make_blobs(n_samples=n_samples, random_state=random_state, centers=n_clusters)\n",
    "    return dataset, dataset_classes\n",
    "\n",
    "ctx.generate_dataset = generate_dataset  # => Seamless transformer ctx.generate_dataset\n",
    "ctx.generate_dataset.delay = 0\n",
    "ctx.generate_dataset.n_clusters = 6\n",
    "ctx.generate_dataset.n_samples = 1500\n",
    "ctx.generate_dataset.random_state = 0\n",
    "ctx.generated_dataset = ctx.generate_dataset.result\n",
    "ctx.dataset = ctx.generated_dataset[0]\n",
    "ctx.dataset.celltype = \"binary\"\n",
    "ctx.dataset_classes = ctx.generated_dataset[1]\n",
    "ctx.dataset_classes.celltype = \"binary\"\n",
    "\n",
    "await ctx.computation()\n",
    "print(ctx.generate_dataset.status, \"Exception: \", ctx.generate_dataset.exception)\n",
    "print(\"Result:\")\n",
    "ctx.dataset.value"
   ]
  },
  {
   "cell_type": "code",
   "execution_count": 7,
   "id": "c8ea10b4-9a55-4684-b587-7c323f0221e7",
   "metadata": {},
   "outputs": [
    {
     "name": "stdout",
     "output_type": "stream",
     "text": [
      "Status: OK Exception: None\n"
     ]
    }
   ],
   "source": [
    "def plot_dataset(dataset, colors):\n",
    "    import matplotlib.pyplot as plt\n",
    "    x, y = dataset[:, 0], dataset[:, 1]\n",
    "    plt.scatter(x,y, c=colors)\n",
    "    \n",
    "    # We need to return the PNG bytes. Unfortunately, there is no Matplotlib built-in function for this\n",
    "    from io import BytesIO\n",
    "    png = BytesIO()\n",
    "    plt.savefig(png)\n",
    "    return png.getvalue()\n",
    "\n",
    "ctx.plot_dataset = plot_dataset\n",
    "ctx.plot_dataset.dataset = ctx.dataset\n",
    "ctx.plot_dataset.colors = ctx.dataset_classes\n",
    "ctx.plot = ctx.plot_dataset.result\n",
    "ctx.plot.celltype = \"bytes\"\n",
    "ctx.plot.mimetype = \"png\"\n",
    "await ctx.translation()\n",
    "await ctx.computation()\n",
    "print(ctx.plot.status, \"Exception:\", ctx.plot_dataset.exception)"
   ]
  },
  {
   "cell_type": "markdown",
   "id": "c5c5526f-5db7-4d13-bb8f-22e3583f998d",
   "metadata": {},
   "source": [
    "### Add some cells that control the workflow parameters\n"
   ]
  },
  {
   "cell_type": "code",
   "execution_count": 8,
   "id": "a089af11-247e-4b59-a6f8-20b4186f221b",
   "metadata": {},
   "outputs": [],
   "source": [
    "ctx.delay = Cell(\"float\").set(0)\n",
    "ctx.random_state = Cell(\"int\").set(0)\n",
    "ctx.generate_dataset.delay = ctx.delay\n",
    "ctx.generate_dataset.random_state = ctx.random_state\n",
    "\n",
    "await ctx.computation()"
   ]
  },
  {
   "cell_type": "markdown",
   "id": "de2f67a2-6f8e-4e7a-adf2-3b2ad15df28f",
   "metadata": {},
   "source": [
    "### 6. Generate a little Jupyter dashboard to control the workflow\n",
    "\n",
    "#### Whenever you change the sliders, you can see the execution happen in the web page and status page above\n",
    "\n",
    "#### Increasing the \"delay\" slider will slow down execution\n",
    "\n",
    "#### Once execution has finished, the plot will be updated"
   ]
  },
  {
   "cell_type": "code",
   "execution_count": 9,
   "id": "5e4e52d5-0464-4b5e-a7fc-4c6ac4bd64aa",
   "metadata": {},
   "outputs": [
    {
     "data": {
      "application/vnd.jupyter.widget-view+json": {
       "model_id": "252ee21154ed4c2989753cef28375af3",
       "version_major": 2,
       "version_minor": 0
      },
      "text/plain": [
       "IntSlider(value=0, description='Rand state')"
      ]
     },
     "metadata": {},
     "output_type": "display_data"
    },
    {
     "data": {
      "application/vnd.jupyter.widget-view+json": {
       "model_id": "8c0ab1662e9846f0a2f89a889bb7f74f",
       "version_major": 2,
       "version_minor": 0
      },
      "text/plain": [
       "FloatSlider(value=0.0, description='Delay', max=10.0)"
      ]
     },
     "metadata": {},
     "output_type": "display_data"
    },
    {
     "name": "stdout",
     "output_type": "stream",
     "text": [
      "Plot\n"
     ]
    },
    {
     "data": {
      "application/vnd.jupyter.widget-view+json": {
       "model_id": "552b64a8e7f440b68161c372a11c2f17",
       "version_major": 2,
       "version_minor": 0
      },
      "text/plain": [
       "Output(outputs=({'output_type': 'display_data', 'data': {'image/png': 'iVBORw0KGgoAAAANSUhEUgAAAbAAAAEgCAYAAAD…"
      ]
     },
     "metadata": {},
     "output_type": "display_data"
    }
   ],
   "source": [
    "from ipywidgets import IntSlider, FloatSlider\n",
    "\n",
    "widget_random_state = IntSlider(min=0,max=100, description=\"Rand state\")\n",
    "widget_delay = FloatSlider(min=0,max=10, description=\"Delay\")\n",
    "ctx.random_state.traitlet().link(widget_random_state)\n",
    "ctx.delay.traitlet().link(widget_delay)\n",
    "\n",
    "display(widget_random_state)\n",
    "display(widget_delay)\n",
    "print(\"Plot\")\n",
    "display(ctx.plot.output())"
   ]
  },
  {
   "cell_type": "markdown",
   "id": "ae0cb274-5a24-4730-82c5-0e24c7dbb85c",
   "metadata": {},
   "source": [
    "#### The cells can still be changed programmatically. \n",
    "#### This will update the slider above, and re-build the plot"
   ]
  },
  {
   "cell_type": "code",
   "execution_count": 10,
   "id": "cb3da9ba-01b6-468a-b034-68c9f289989a",
   "metadata": {},
   "outputs": [],
   "source": [
    "ctx.random_state = 6"
   ]
  },
  {
   "cell_type": "markdown",
   "id": "91e89bdb-af43-44f7-a08a-1045f8d44702",
   "metadata": {},
   "source": [
    "### 7. Building a web server\n",
    "#### Now we will share the plot directly over the web"
   ]
  },
  {
   "cell_type": "code",
   "execution_count": 11,
   "id": "db93f4d8-5bf0-465c-bfe0-75ddc989af83",
   "metadata": {},
   "outputs": [],
   "source": [
    "ctx.plot.share()\n",
    "await ctx.translation()"
   ]
  },
  {
   "cell_type": "code",
   "execution_count": 12,
   "id": "485bb64f-dae0-429d-b38c-c7c5a2cca001",
   "metadata": {
    "jupyter": {
     "source_hidden": true
    },
    "tags": []
   },
   "outputs": [
    {
     "data": {
      "application/javascript": [
       "var ele = document.createElement(\"div\")\n",
       "element.append(ele)\n",
       "ele.innerHTML = \"<b><a href=\\\"\" + window.JUPYTERLAB_URL  + \"/ctx/plot\\\" target=\\\"_blank\\\"> Click here to display the generated plot in a new tab </a></b>\"\n"
      ],
      "text/plain": [
       "<IPython.core.display.Javascript object>"
      ]
     },
     "metadata": {},
     "output_type": "display_data"
    }
   ],
   "source": [
    "%%javascript\n",
    "var ele = document.createElement(\"div\")\n",
    "element.append(ele)\n",
    "ele.innerHTML = \"<b><a href=\\\"\" + window.JUPYTERLAB_URL  + \"/ctx/plot\\\" target=\\\"_blank\\\"> Click here to display the generated plot in a new tab </a></b>\"\n"
   ]
  },
  {
   "cell_type": "markdown",
   "id": "90bd4c96-40b5-4d4e-ba2f-ace903493fb6",
   "metadata": {},
   "source": [
    "#### We can do the same for the input parameters. \n",
    "#### In fact, the URL is the same, ending with **/ctx/random_state** and **/ctx/delay** instead of **/ctx/plot**"
   ]
  },
  {
   "cell_type": "code",
   "execution_count": 13,
   "id": "b26fd68f-49b4-4256-afe1-01fd34b9b690",
   "metadata": {},
   "outputs": [],
   "source": [
    "ctx.random_state.share(readonly=False)  # readonly=False, so we can modify it via the web page\n",
    "ctx.delay.share(readonly=False)\n",
    "await ctx.translation()"
   ]
  },
  {
   "cell_type": "code",
   "execution_count": 14,
   "id": "9f2caa59-7aee-4442-9eba-6e1aad64afab",
   "metadata": {
    "jupyter": {
     "source_hidden": true
    },
    "tags": []
   },
   "outputs": [
    {
     "data": {
      "application/javascript": [
       "var ele = document.createElement(\"div\")\n",
       "element.append(ele)\n",
       "ele.innerHTML = \"<b><a href=\\\"\" + window.JUPYTERLAB_URL  + \"/ctx/random_state\\\" target=\\\"_blank\\\"> Click here for ctx.random state (new tab) </a></b>\"\n",
       "ele = document.createElement(\"div\")\n",
       "element.append(ele)\n",
       "ele.innerHTML = \"<b><a href=\\\"\" + window.JUPYTERLAB_URL  + \"/ctx/delay\\\" target=\\\"_blank\\\"> Click here for ctx.delay (new tab) </a></b>\"\n"
      ],
      "text/plain": [
       "<IPython.core.display.Javascript object>"
      ]
     },
     "metadata": {},
     "output_type": "display_data"
    }
   ],
   "source": [
    "%%javascript\n",
    "var ele = document.createElement(\"div\")\n",
    "element.append(ele)\n",
    "ele.innerHTML = \"<b><a href=\\\"\" + window.JUPYTERLAB_URL  + \"/ctx/random_state\\\" target=\\\"_blank\\\"> Click here for ctx.random state (new tab) </a></b>\"\n",
    "ele = document.createElement(\"div\")\n",
    "element.append(ele)\n",
    "ele.innerHTML = \"<b><a href=\\\"\" + window.JUPYTERLAB_URL  + \"/ctx/delay\\\" target=\\\"_blank\\\"> Click here for ctx.delay (new tab) </a></b>\"\n"
   ]
  },
  {
   "cell_type": "markdown",
   "id": "246c9650-8295-4f3a-99ed-2dedca0f6bd4",
   "metadata": {},
   "source": [
    "### ***Scroll up to step 4 and click to display the web page.***\n",
    "\n",
    "#### Shared cells are added automatically to the web page. \n",
    "\n",
    "#### The cell values are in sync with the Jupyter dashboard above. \n",
    "\n",
    "#### The web page is also collaborative. When multiple users connect, their updates are synchronized as well."
   ]
  },
  {
   "cell_type": "markdown",
   "id": "63329cf2-fb75-4b63-a8a9-fd929905be2c",
   "metadata": {},
   "source": [
    "### 8. Customizing the web page\n",
    "#### Edit the files in the /web directory to customize the web page.\n",
    "#### The web page can be customized at different levels. The web page is updated immediately.\n",
    "- **Customizing webform.json**\n",
    "\n",
    "  For example, you can copy \"webform-CUSTOM1.json\" to web/webform.json. This will show the output plot in the webform.\n",
    "\n",
    "- **Modifying the generated index.html and index.js by hand**\n",
    "\n",
    "- **Modifying the webform.json components in /web/components**\n",
    "\n",
    "#### Modifications can lead to merge conflicts, that must be resolved in the -CONFLICT files"
   ]
  },
  {
   "cell_type": "markdown",
   "id": "b26b8737-ae33-4f58-822c-60c0c78f3ec3",
   "metadata": {},
   "source": [
    "### 9. Clustering the dataset\n",
    "#### We will now cluster the dataset by k-means clustering, and color the plot by cluster. \n",
    "\n",
    "#### The webform will allow the number of clusters to be defined"
   ]
  },
  {
   "cell_type": "code",
   "execution_count": 15,
   "id": "dce77db6-03d2-40ac-8772-e6f0123b8b01",
   "metadata": {},
   "outputs": [
    {
     "data": {
      "text/plain": [
       "0"
      ]
     },
     "execution_count": 15,
     "metadata": {},
     "output_type": "execute_result"
    }
   ],
   "source": [
    "# To avoid merge conflicts, remove all existing customized web content\n",
    "os.system(\"rm -f web/webform.json web/index.html web/index.js web/*CONFLICT.*\")"
   ]
  },
  {
   "cell_type": "code",
   "execution_count": 16,
   "id": "3b8c4eea-bf9d-4a57-baa7-653eeae2a2ba",
   "metadata": {},
   "outputs": [
    {
     "name": "stdout",
     "output_type": "stream",
     "text": [
      "Waiting for: Seamless transformer: .kmeans.tf\n",
      "Waiting for background tasks\n"
     ]
    }
   ],
   "source": [
    "ctx.k = Cell(\"int\").set(3)\n",
    "ctx.k.share(readonly=False)\n",
    "\n",
    "def kmeans(dataset, k):\n",
    "    from sklearn.cluster import KMeans\n",
    "    clustering = KMeans(n_clusters=k).fit_predict(dataset)\n",
    "    return clustering\n",
    "\n",
    "ctx.kmeans = kmeans\n",
    "ctx.kmeans.dataset = ctx.dataset\n",
    "ctx.kmeans.k = ctx.k\n",
    "ctx.clustering = ctx.kmeans.result\n",
    "ctx.clustering.celltype = \"binary\"\n",
    "ctx.plot_dataset.colors = ctx.clustering\n",
    "await ctx.computation()"
   ]
  },
  {
   "cell_type": "code",
   "execution_count": 17,
   "id": "260d15a2-a021-4e05-b94b-ab891eba222f",
   "metadata": {},
   "outputs": [
    {
     "data": {
      "text/plain": [
       "0"
      ]
     },
     "execution_count": 17,
     "metadata": {},
     "output_type": "execute_result"
    }
   ],
   "source": [
    "# Customize the web form\n",
    "os.system(\"cp webform-CUSTOM2.json web/webform.json\")"
   ]
  }
 ],
 "metadata": {
  "kernelspec": {
   "display_name": "Python 3",
   "language": "python",
   "name": "python3"
  },
  "language_info": {
   "codemirror_mode": {
    "name": "ipython",
    "version": 3
   },
   "file_extension": ".py",
   "mimetype": "text/x-python",
   "name": "python",
   "nbconvert_exporter": "python",
   "pygments_lexer": "ipython3",
   "version": "3.8.8"
  }
 },
 "nbformat": 4,
 "nbformat_minor": 5
}
