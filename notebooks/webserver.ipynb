{
 "cells": [
  {
   "cell_type": "markdown",
   "metadata": {
    "tags": []
   },
   "source": [
    "# Interactive collaborative web server"
   ]
  },
  {
   "cell_type": "markdown",
   "metadata": {},
   "source": [
    "### 1. Create a new Seamless project\n",
    "(If Seamless is installed locally, you would use the `seamless-new-project` command instead)"
   ]
  },
  {
   "cell_type": "code",
   "execution_count": 1,
   "metadata": {
    "tags": []
   },
   "outputs": [
    {
     "data": {
      "text/plain": [
       "0"
      ]
     },
     "execution_count": 1,
     "metadata": {},
     "output_type": "execute_result"
    }
   ],
   "source": [
    "import os\n",
    "if not os.path.exists(\"web/\"):\n",
    "    os.system(\"python3 ~/seamless-scripts/new-project.py webserver-demo\")\n",
    "else:\n",
    "    # To avoid merge conflicts, remove all existing customized web content\n",
    "    os.system(\"rm -f web/webform.json web/index.html web/index.js web/*CONFLICT.*\")\n",
    "# new-project.py will generate a default Notebook for the project. Link it to the current notebook instead\n",
    "os.system(\"rm -f webserver-demo.ipynb\")\n",
    "os.system(\"ln -s webserver.ipynb webserver-demo.ipynb\")"
   ]
  },
  {
   "cell_type": "markdown",
   "metadata": {},
   "source": [
    "### 2. Load the project"
   ]
  },
  {
   "cell_type": "code",
   "execution_count": 2,
   "metadata": {
    "tags": []
   },
   "outputs": [
    {
     "name": "stderr",
     "output_type": "stream",
     "text": [
      "*** define_graph() function is empty. Loading 'graph/webserver-demo.seamless' ***\n",
      "\n",
      "/home/jovyan/software/seamless/core/mount.py:121: RuntimeWarning: coroutine 'sleep' was never awaited\n",
      "  pass\n",
      "RuntimeWarning: Enable tracemalloc to get the object allocation traceback\n",
      "Project loaded.\n",
      "\n",
      "    Main context is \"ctx\"\n",
      "    Web/status context is \"webctx\"\n",
      "\n",
      "    Open http://localhost:<REST server port> to see the web page\n",
      "    Open http://localhost:<REST server port>/status/status.html to see the status\n",
      "\n",
      "    Run save() to save the project\n",
      "    \n"
     ]
    },
    {
     "name": "stdout",
     "output_type": "stream",
     "text": [
      "Warning: File path 'web/generate-webpage.py' has a different value, overwriting cell\n",
      "Warning: File path 'web/components' has a different value, overwriting cell\n",
      "Opened the seamless share update server at port 5138\n",
      "Opened the seamless REST server at port 5813\n"
     ]
    }
   ],
   "source": [
    "%run -i load-project.py\n",
    "await load()\n",
    "import asyncio\n",
    "await asyncio.sleep(1)"
   ]
  },
  {
   "cell_type": "markdown",
   "metadata": {},
   "source": [
    "### 3. Make Seamless available over port 3124"
   ]
  },
  {
   "cell_type": "code",
   "execution_count": 3,
   "metadata": {
    "tags": []
   },
   "outputs": [],
   "source": [
    "from seamless import shareserver\n",
    "cmd = \"python3 ~/seamless-scripts/webproxy.py 3124 http://localhost:{0} ws://localhost:{1}\".format(shareserver.rest_port, shareserver.update_port)\n",
    "get_ipython().run_cell_magic('script', 'bash --bg --out webproxy.log', cmd)"
   ]
  },
  {
   "cell_type": "markdown",
   "metadata": {
    "tags": []
   },
   "source": [
    "### 4. The following links will display the web server\n",
    "(The contents will be empty until we define a workflow)"
   ]
  },
  {
   "cell_type": "code",
   "execution_count": 4,
   "metadata": {
    "jupyter": {
     "source_hidden": true
    },
    "tags": []
   },
   "outputs": [
    {
     "data": {
      "application/javascript": "let base = window.location.protocol + \"//\" + window.location.hostname\nlet v = window.location.pathname\nlet vv = v.split(\"/\")\nfor (let i = 1; i < vv.length - 1; i++) {\n    if (vv[i] == \"lab\" && vv[i+1] == \"tree\") {\n        window.JUPYTERLAB_URL = base + vv.slice(0, i).join(\"/\") + \"/proxy/3124\" \n        break\n    }\n}\n",
      "text/plain": [
       "<IPython.core.display.Javascript object>"
      ]
     },
     "metadata": {},
     "output_type": "display_data"
    }
   ],
   "source": [
    "%%javascript\n",
    "let base = window.location.protocol + \"//\" + window.location.hostname\n",
    "let v = window.location.pathname\n",
    "let vv = v.split(\"/\")\n",
    "for (let i = 1; i < vv.length - 1; i++) {\n",
    "    if ((vv[i] == \"lab\" || vv[i] == \"doc\") && vv[i+1] == \"tree\") {\n",
    "        window.JUPYTERLAB_URL = base + vv.slice(0, i).join(\"/\") + \"/proxy/3124\" \n",
    "        break\n",
    "    }\n",
    "}\n"
   ]
  },
  {
   "cell_type": "code",
   "execution_count": 5,
   "metadata": {
    "jupyter": {
     "source_hidden": true
    },
    "tags": []
   },
   "outputs": [
    {
     "data": {
      "application/javascript": "var ele = document.createElement(\"div\")\nelement.append(ele)\nele.innerHTML = \"<b><a href=\\\"\" + window.JUPYTERLAB_URL  + \"/status/index.html\\\" target=\\\"_blank\\\"> Click here to display the web page in a new tab </a></b>\"\nele = document.createElement(\"div\")\nelement.append(ele)\nele.innerHTML = \"<b><a href=\\\"\" + window.JUPYTERLAB_URL + \"/status/status.html\\\" target=\\\"_blank\\\"> Click here to display the status page in a new tab </a></b>\"\n\n",
      "text/plain": [
       "<IPython.core.display.Javascript object>"
      ]
     },
     "metadata": {},
     "output_type": "display_data"
    }
   ],
   "source": [
    "%%javascript\n",
    "var ele = document.createElement(\"div\")\n",
    "element.append(ele)\n",
    "ele.innerHTML = \"<b><a href=\\\"\" + window.JUPYTERLAB_URL  + \"/status/index.html\\\" target=\\\"_blank\\\"> Click here to display the web page in a new tab </a></b>\"\n",
    "ele = document.createElement(\"div\")\n",
    "element.append(ele)\n",
    "ele.innerHTML = \"<b><a href=\\\"\" + window.JUPYTERLAB_URL + \"/status/status.html\\\" target=\\\"_blank\\\"> Click here to display the status page in a new tab </a></b>\"\n",
    "\n"
   ]
  },
  {
   "cell_type": "markdown",
   "metadata": {},
   "source": [
    "### 5. Define a two-step workflow: generate a dataset, and then plot it"
   ]
  },
  {
   "cell_type": "code",
   "execution_count": 6,
   "metadata": {},
   "outputs": [
    {
     "name": "stdout",
     "output_type": "stream",
     "text": [
      "\n",
      "\n",
      "\n",
      "Status: OK Exception:  None\n",
      "Result:\n"
     ]
    },
    {
     "data": {
      "text/plain": [
       "array([[-1.98272936,  4.34404101],\n",
       "       [ 3.48086036, -0.42724604],\n",
       "       [ 0.77557835,  0.31223246],\n",
       "       ...,\n",
       "       [-2.55838647,  1.487891  ],\n",
       "       [ 0.10718693,  7.43731189],\n",
       "       [-0.99270284,  3.23576736]])"
      ]
     },
     "execution_count": 6,
     "metadata": {},
     "output_type": "execute_result"
    }
   ],
   "source": [
    "def generate_dataset(n_samples, random_state, delay, n_clusters):\n",
    "    # create artifical delay, so that the status graph can be monitored\n",
    "    import time\n",
    "    time.sleep(delay)\n",
    "    \n",
    "    from sklearn.datasets import make_blobs\n",
    "    dataset, dataset_classes = make_blobs(n_samples=n_samples, random_state=random_state, centers=n_clusters)\n",
    "    return dataset, dataset_classes\n",
    "\n",
    "ctx.generate_dataset = generate_dataset  # => Seamless transformer ctx.generate_dataset\n",
    "ctx.generate_dataset.delay = 0\n",
    "ctx.generate_dataset.n_clusters = 6\n",
    "ctx.generate_dataset.n_samples = 1500\n",
    "ctx.generate_dataset.random_state = 0\n",
    "ctx.generated_dataset = ctx.generate_dataset.result\n",
    "ctx.dataset = ctx.generated_dataset[0]\n",
    "ctx.dataset.celltype = \"binary\"\n",
    "ctx.dataset_classes = ctx.generated_dataset[1]\n",
    "ctx.dataset_classes.celltype = \"binary\"\n",
    "\n",
    "await ctx.computation()\n",
    "print(ctx.generate_dataset.status, \"Exception: \", ctx.generate_dataset.exception)\n",
    "print(\"Result:\")\n",
    "ctx.dataset.value"
   ]
  },
  {
   "cell_type": "code",
   "execution_count": 7,
   "metadata": {},
   "outputs": [
    {
     "name": "stdout",
     "output_type": "stream",
     "text": [
      "Status: OK Exception: None\n"
     ]
    }
   ],
   "source": [
    "def plot_dataset(dataset, colors):\n",
    "    import matplotlib.pyplot as plt\n",
    "    x, y = dataset[:, 0], dataset[:, 1]\n",
    "    plt.scatter(x,y, c=colors)\n",
    "    \n",
    "    # We need to return the PNG bytes. Unfortunately, there is no Matplotlib built-in function for this\n",
    "    from io import BytesIO\n",
    "    png = BytesIO()\n",
    "    plt.savefig(png)\n",
    "    return png.getvalue()\n",
    "\n",
    "ctx.plot_dataset = plot_dataset\n",
    "ctx.plot_dataset.dataset = ctx.dataset\n",
    "ctx.plot_dataset.colors = ctx.dataset_classes\n",
    "ctx.plot = ctx.plot_dataset.result\n",
    "ctx.plot.celltype = \"bytes\"\n",
    "ctx.plot.mimetype = \"png\"\n",
    "await ctx.translation()\n",
    "await ctx.computation()\n",
    "print(ctx.plot.status, \"Exception:\", ctx.plot_dataset.exception)"
   ]
  },
  {
   "cell_type": "markdown",
   "metadata": {},
   "source": [
    "### Add some cells that control the workflow parameters\n"
   ]
  },
  {
   "cell_type": "code",
   "execution_count": 8,
   "metadata": {},
   "outputs": [],
   "source": [
    "ctx.delay = Cell(\"float\").set(0)\n",
    "ctx.random_state = Cell(\"int\").set(0)\n",
    "ctx.generate_dataset.delay = ctx.delay\n",
    "ctx.generate_dataset.random_state = ctx.random_state\n",
    "\n",
    "await ctx.computation()"
   ]
  },
  {
   "cell_type": "markdown",
   "metadata": {},
   "source": [
    "### 6. Generate a little Jupyter dashboard to control the workflow\n",
    "\n",
    "#### Whenever you change the sliders, you can see the execution happen in the web page and status page above\n",
    "\n",
    "#### Increasing the \"delay\" slider will slow down execution\n",
    "\n",
    "#### Once execution has finished, the plot will be updated"
   ]
  },
  {
   "cell_type": "code",
   "execution_count": 9,
   "metadata": {},
   "outputs": [
    {
     "data": {
      "application/vnd.jupyter.widget-view+json": {
       "model_id": "252ee21154ed4c2989753cef28375af3",
       "version_major": 2,
       "version_minor": 0
      },
      "text/plain": [
       "IntSlider(value=0, description='Rand state')"
      ]
     },
     "metadata": {},
     "output_type": "display_data"
    },
    {
     "data": {
      "application/vnd.jupyter.widget-view+json": {
       "model_id": "8c0ab1662e9846f0a2f89a889bb7f74f",
       "version_major": 2,
       "version_minor": 0
      },
      "text/plain": [
       "FloatSlider(value=0.0, description='Delay', max=10.0)"
      ]
     },
     "metadata": {},
     "output_type": "display_data"
    },
    {
     "name": "stdout",
     "output_type": "stream",
     "text": [
      "Plot\n"
     ]
    },
    {
     "data": {
      "application/vnd.jupyter.widget-view+json": {
       "model_id": "552b64a8e7f440b68161c372a11c2f17",
       "version_major": 2,
       "version_minor": 0
      },
      "text/plain": [
       "Output(outputs=({'output_type': 'display_data', 'data': {'image/png': 'iVBORw0KGgoAAAANSUhEUgAAAbAAAAEgCAYAAAD…"
      ]
     },
     "metadata": {},
     "output_type": "display_data"
    }
   ],
   "source": [
    "from ipywidgets import IntSlider, FloatSlider\n",
    "\n",
    "widget_random_state = IntSlider(min=0,max=100, description=\"Rand state\")\n",
    "widget_delay = FloatSlider(min=0,max=10, description=\"Delay\")\n",
    "ctx.random_state.traitlet().link(widget_random_state)\n",
    "ctx.delay.traitlet().link(widget_delay)\n",
    "\n",
    "display(widget_random_state)\n",
    "display(widget_delay)\n",
    "print(\"Plot\")\n",
    "display(ctx.plot.output())"
   ]
  },
  {
   "cell_type": "markdown",
   "metadata": {},
   "source": [
    "#### The cells can still be changed programmatically. \n",
    "#### This will update the slider above, and re-build the plot"
   ]
  },
  {
   "cell_type": "code",
   "execution_count": 10,
   "metadata": {},
   "outputs": [],
   "source": [
    "ctx.random_state = 6"
   ]
  },
  {
   "cell_type": "markdown",
   "metadata": {},
   "source": [
    "### 7. Building a web server\n",
    "#### Now we will share the plot directly over the web"
   ]
  },
  {
   "cell_type": "code",
   "execution_count": 11,
   "metadata": {},
   "outputs": [],
   "source": [
    "ctx.plot.share()\n",
    "await ctx.translation()"
   ]
  },
  {
   "cell_type": "code",
   "execution_count": 12,
   "metadata": {
    "jupyter": {
     "source_hidden": true
    },
    "tags": []
   },
   "outputs": [
    {
     "data": {
      "application/javascript": "var ele = document.createElement(\"div\")\nelement.append(ele)\nele.innerHTML = \"<b><a href=\\\"\" + window.JUPYTERLAB_URL  + \"/ctx/plot\\\" target=\\\"_blank\\\"> Click here to display the generated plot in a new tab </a></b>\"\n",
      "text/plain": [
       "<IPython.core.display.Javascript object>"
      ]
     },
     "metadata": {},
     "output_type": "display_data"
    }
   ],
   "source": [
    "%%javascript\n",
    "var ele = document.createElement(\"div\")\n",
    "element.append(ele)\n",
    "ele.innerHTML = \"<b><a href=\\\"\" + window.JUPYTERLAB_URL  + \"/ctx/plot\\\" target=\\\"_blank\\\"> Click here to display the generated plot in a new tab </a></b>\"\n"
   ]
  },
  {
   "cell_type": "markdown",
   "metadata": {},
   "source": [
    "#### We can do the same for the input parameters. \n",
    "#### In fact, the URL is the same, ending with **/ctx/random_state** and **/ctx/delay** instead of **/ctx/plot**"
   ]
  },
  {
   "cell_type": "code",
   "execution_count": 13,
   "metadata": {},
   "outputs": [],
   "source": [
    "ctx.random_state.share(readonly=False)  # readonly=False, so we can modify it via the web page\n",
    "ctx.delay.share(readonly=False)\n",
    "await ctx.translation()"
   ]
  },
  {
   "cell_type": "code",
   "execution_count": 14,
   "metadata": {
    "jupyter": {
     "source_hidden": true
    },
    "tags": []
   },
   "outputs": [
    {
     "data": {
      "application/javascript": "var ele = document.createElement(\"div\")\nelement.append(ele)\nele.innerHTML = \"<b><a href=\\\"\" + window.JUPYTERLAB_URL  + \"/ctx/random_state\\\" target=\\\"_blank\\\"> Click here for ctx.random state (new tab) </a></b>\"\nele = document.createElement(\"div\")\nelement.append(ele)\nele.innerHTML = \"<b><a href=\\\"\" + window.JUPYTERLAB_URL  + \"/ctx/delay\\\" target=\\\"_blank\\\"> Click here for ctx.delay (new tab) </a></b>\"\n",
      "text/plain": [
       "<IPython.core.display.Javascript object>"
      ]
     },
     "metadata": {},
     "output_type": "display_data"
    }
   ],
   "source": [
    "%%javascript\n",
    "var ele = document.createElement(\"div\")\n",
    "element.append(ele)\n",
    "ele.innerHTML = \"<b><a href=\\\"\" + window.JUPYTERLAB_URL  + \"/ctx/random_state\\\" target=\\\"_blank\\\"> Click here for ctx.random state (new tab) </a></b>\"\n",
    "ele = document.createElement(\"div\")\n",
    "element.append(ele)\n",
    "ele.innerHTML = \"<b><a href=\\\"\" + window.JUPYTERLAB_URL  + \"/ctx/delay\\\" target=\\\"_blank\\\"> Click here for ctx.delay (new tab) </a></b>\"\n"
   ]
  },
  {
   "cell_type": "markdown",
   "metadata": {},
   "source": [
    "### ***Scroll up to step 4 and click to display the web page.***\n",
    "\n",
    "#### Shared cells are added automatically to the web page. \n",
    "\n",
    "#### The cell values are in sync with the Jupyter dashboard above. \n",
    "\n",
    "#### The web page is also collaborative. When multiple users connect, their updates are synchronized as well."
   ]
  },
  {
   "cell_type": "markdown",
   "metadata": {},
   "source": [
    "### 8. Customizing the web page\n",
    "#### Edit the files in the /web directory to customize the web page.\n",
    "#### The web page can be customized at different levels. The web page is updated immediately.\n",
    "- **Customizing webform.json**\n",
    "\n",
    "  For example, you can copy \"webform-CUSTOM1.json\" to web/webform.json. This will show the output plot in the webform.\n",
    "\n",
    "- **Modifying the generated index.html and index.js by hand**\n",
    "\n",
    "- **Modifying the webform.json components in /web/components**\n",
    "\n",
    "#### Modifications can lead to merge conflicts, that must be resolved in the -CONFLICT files"
   ]
  },
  {
   "cell_type": "markdown",
   "metadata": {},
   "source": [
    "### 9. Clustering the dataset\n",
    "#### We will now cluster the dataset by k-means clustering, and color the plot by cluster. \n",
    "\n",
    "#### The webform will allow the number of clusters to be defined"
   ]
  },
  {
   "cell_type": "code",
   "execution_count": 15,
   "metadata": {},
   "outputs": [
    {
     "data": {
      "text/plain": [
       "0"
      ]
     },
     "execution_count": 15,
     "metadata": {},
     "output_type": "execute_result"
    }
   ],
   "source": [
    "# To avoid merge conflicts, remove all existing customized web content\n",
    "os.system(\"rm -f web/webform.json web/index.html web/index.js web/*CONFLICT.*\")"
   ]
  },
  {
   "cell_type": "code",
   "execution_count": 16,
   "metadata": {},
   "outputs": [
    {
     "name": "stdout",
     "output_type": "stream",
     "text": [
      "Waiting for: Seamless transformer: .kmeans.tf\n",
      "Waiting for background tasks\n"
     ]
    }
   ],
   "source": [
    "ctx.k = Cell(\"int\").set(3)\n",
    "ctx.k.share(readonly=False)\n",
    "\n",
    "def kmeans(dataset, k):\n",
    "    from sklearn.cluster import KMeans\n",
    "    clustering = KMeans(n_clusters=k).fit_predict(dataset)\n",
    "    return clustering\n",
    "\n",
    "ctx.kmeans = kmeans\n",
    "ctx.kmeans.dataset = ctx.dataset\n",
    "ctx.kmeans.k = ctx.k\n",
    "ctx.clustering = ctx.kmeans.result\n",
    "ctx.clustering.celltype = \"binary\"\n",
    "ctx.plot_dataset.colors = ctx.clustering\n",
    "await ctx.computation()"
   ]
  },
  {
   "cell_type": "code",
   "execution_count": 17,
   "metadata": {},
   "outputs": [
    {
     "data": {
      "text/plain": [
       "0"
      ]
     },
     "execution_count": 17,
     "metadata": {},
     "output_type": "execute_result"
    }
   ],
   "source": [
    "# Customize the web form\n",
    "os.system(\"cp webform-CUSTOM2.json web/webform.json\")"
   ]
  }
 ],
 "metadata": {
  "interpreter": {
   "hash": "64ad05579657d9c6d4603bd6b9bd1c83970f79cebca7dbdaf99c2b341ee1db00"
  },
  "kernelspec": {
   "display_name": "Python 3.9.1 64-bit ('base': conda)",
   "name": "python3"
  },
  "language_info": {
   "name": "python",
   "version": ""
  }
 },
 "nbformat": 4,
 "nbformat_minor": 5
}