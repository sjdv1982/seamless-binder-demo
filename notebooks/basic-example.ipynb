{
 "cells": [
  {
   "cell_type": "markdown",
   "metadata": {},
   "source": [
    "# Basic example"
   ]
  },
  {
   "cell_type": "markdown",
   "metadata": {},
   "source": [
    "### 1. Import Seamless in IPython or Jupyter "
   ]
  },
  {
   "cell_type": "code",
   "execution_count": 1,
   "metadata": {},
   "outputs": [],
   "source": [
    "from seamless.highlevel import Context\n",
    "ctx = Context()"
   ]
  },
  {
   "cell_type": "markdown",
   "metadata": {},
   "source": [
    "### 2. Set up a simple Seamless context"
   ]
  },
  {
   "cell_type": "code",
   "execution_count": 2,
   "metadata": {},
   "outputs": [
    {
     "data": {
      "text/plain": [
       "<Silk: 30 >"
      ]
     },
     "execution_count": 2,
     "metadata": {},
     "output_type": "execute_result"
    }
   ],
   "source": [
    "def add(a, b):\n",
    "    return a + b\n",
    "\n",
    "ctx.a = 10          # ctx.a => Seamless cell\n",
    "ctx.b = 20          # ctx.b => Seamless cell\n",
    "ctx.add = add       # ctx.add => Seamless transformer\n",
    "ctx.add.a = ctx.a\n",
    "ctx.add.b = ctx.b\n",
    "ctx.c = ctx.add.result     # ctx.c => Seamless cell\n",
    "await ctx.computation()\n",
    "ctx.c.value"
   ]
  },
  {
   "cell_type": "code",
   "execution_count": 3,
   "metadata": {},
   "outputs": [
    {
     "data": {
      "text/plain": [
       "<Silk: 35 >"
      ]
     },
     "execution_count": 3,
     "metadata": {},
     "output_type": "execute_result"
    }
   ],
   "source": [
    "ctx.a += 5 \n",
    "await ctx.computation()\n",
    "ctx.c.value"
   ]
  },
  {
   "cell_type": "markdown",
   "metadata": {},
   "source": [
    "### 3. Define schemas and validation rules"
   ]
  },
  {
   "cell_type": "code",
   "execution_count": 4,
   "metadata": {},
   "outputs": [
    {
     "name": "stdout",
     "output_type": "stream",
     "text": [
      "None\n"
     ]
    }
   ],
   "source": [
    "ctx.add.example.a = 0.0  # declares that add.a must be a number\n",
    "ctx.add.example.b = 0.0  \n",
    "\n",
    "def validate(self):\n",
    "    assert self.a < self.b\n",
    "\n",
    "ctx.add.add_validator(validate, name=\"validate\")\n",
    "\n",
    "await ctx.computation()\n",
    "print(ctx.add.exception)\n",
    "# Validation passes => exception is None"
   ]
  },
  {
   "cell_type": "markdown",
   "metadata": {},
   "source": [
    "### 4. Create an API for a Seamless cell"
   ]
  },
  {
   "cell_type": "code",
   "execution_count": 5,
   "metadata": {},
   "outputs": [
    {
     "name": "stdout",
     "output_type": "stream",
     "text": [
      "The result is: 35\n"
     ]
    }
   ],
   "source": [
    "def report(self): \n",
    "    value = self.unsilk \n",
    "    if value is None: \n",
    "        print(\"Sorry, there is no result\") \n",
    "    else: \n",
    "        print(\"The result is: {}\".format(value))\n",
    "\n",
    "ctx.c.example.report = report\n",
    "await ctx.computation()\n",
    "ctx.c.value.report()"
   ]
  },
  {
   "cell_type": "markdown",
   "metadata": {},
   "source": [
    "### 5. Mount cells to the file system"
   ]
  },
  {
   "cell_type": "code",
   "execution_count": 6,
   "metadata": {},
   "outputs": [],
   "source": [
    "ctx.a.celltype = \"plain\"\n",
    "ctx.a.mount(\"a.txt\")\n",
    "ctx.b.celltype = \"plain\"\n",
    "ctx.b.mount(\"b.txt\")\n",
    "ctx.c.celltype = \"plain\"\n",
    "ctx.c.mount(\"c.txt\", mode=\"w\")\n",
    "ctx.add.code.mount(\"code.py\")\n",
    "await ctx.translation()"
   ]
  },
  {
   "cell_type": "markdown",
   "metadata": {},
   "source": [
    "### 6. Share a cell over HTTP"
   ]
  },
  {
   "cell_type": "code",
   "execution_count": 7,
   "metadata": {},
   "outputs": [],
   "source": [
    "ctx.c.mimetype = \"text\"\n",
    "ctx.c.share()\n",
    "await ctx.translation()"
   ]
  },
  {
   "cell_type": "markdown",
   "metadata": {},
   "source": [
    "### 7. Control cells from Jupyter"
   ]
  },
  {
   "cell_type": "code",
   "execution_count": 8,
   "metadata": {},
   "outputs": [
    {
     "name": "stdout",
     "output_type": "stream",
     "text": [
      "Opened the seamless share update server at port 5138\n"
     ]
    },
    {
     "data": {
      "application/vnd.jupyter.widget-view+json": {
       "model_id": "43a19472d6ed4fabbf118a475692945b",
       "version_major": 2,
       "version_minor": 0
      },
      "text/plain": [
       "IntSlider(value=15, max=30, min=-10)"
      ]
     },
     "metadata": {},
     "output_type": "display_data"
    },
    {
     "data": {
      "application/vnd.jupyter.widget-view+json": {
       "model_id": "e325391e3f9a4bf6979fff5d1584a29b",
       "version_major": 2,
       "version_minor": 0
      },
      "text/plain": [
       "IntSlider(value=20, max=30, min=-10)"
      ]
     },
     "metadata": {},
     "output_type": "display_data"
    },
    {
     "data": {
      "application/vnd.jupyter.widget-view+json": {
       "model_id": "f7e8c57cc2684477bc98d9aa0ee63add",
       "version_major": 2,
       "version_minor": 0
      },
      "text/plain": [
       "Output()"
      ]
     },
     "metadata": {},
     "output_type": "display_data"
    }
   ],
   "source": [
    "from ipywidgets import IntSlider, IntText\n",
    "\n",
    "a = IntSlider(min=-10,max=30)\n",
    "b = IntSlider(min=-10,max=30)\n",
    "c = ctx.c.output()\n",
    "ctx.a.traitlet().link(a)\n",
    "ctx.b.traitlet().link(b)\n",
    "display(a)\n",
    "display(b)\n",
    "display(c)"
   ]
  },
  {
   "cell_type": "markdown",
   "metadata": {},
   "source": [
    "### 8. Display the shared cell in the browser\n",
    "**Run the two collapsed cells below**\n"
   ]
  },
  {
   "cell_type": "code",
   "execution_count": 9,
   "metadata": {
    "jupyter": {
     "source_hidden": true
    },
    "tags": []
   },
   "outputs": [],
   "source": [
    "from seamless.shareserver import shareserver\n",
    "if (shareserver.rest_port, shareserver.update_port) != (5813, 5138):\n",
    "    print(\"\"\"WARNING: a different instance of Seamless is already running. \n",
    "The URL below will NOT work \"\"\")"
   ]
  },
  {
   "cell_type": "code",
   "execution_count": 10,
   "metadata": {
    "jupyter": {
     "source_hidden": true
    },
    "tags": []
   },
   "outputs": [
    {
     "data": {
      "application/javascript": "\nlet base = window.location.protocol + \"//\" + window.location.hostname\nlet v = window.location.pathname\nlet vv = v.split(\"/\")\nfor (let i = 1; i < vv.length - 1; i++) {\n    if (vv[i] == \"lab\" && vv[i+1] == \"tree\") {\n        var url = base + vv.slice(0, i).join(\"/\") + \"/proxy/5813/ctx/c\" \n        break\n    }\n}\n\nlet ele = document.createElement(\"div\")\nelement.append(ele)\nele.innerHTML = \"<b><a href=\\\"\" + url  + \"\\\" target=\\\"_blank\\\"> Click here to display cell ctx.c in a new tab </a></b>\"\n",
      "text/plain": [
       "<IPython.core.display.Javascript object>"
      ]
     },
     "metadata": {},
     "output_type": "display_data"
    }
   ],
   "source": [
    "%%javascript\n",
    "\n",
    "let base = window.location.protocol + \"//\" + window.location.hostname\n",
    "let v = window.location.pathname\n",
    "let vv = v.split(\"/\")\n",
    "for (let i = 1; i < vv.length - 1; i++) {\n",
    "    if (vv[i] == \"lab\" && vv[i+1] == \"tree\") {\n",
    "        var url = base + vv.slice(0, i).join(\"/\") + \"/proxy/5813/ctx/c\" \n",
    "        break\n",
    "    }\n",
    "}\n",
    "\n",
    "let ele = document.createElement(\"div\")\n",
    "element.append(ele)\n",
    "ele.innerHTML = \"<b><a href=\\\"\" + url  + \"\\\" target=\\\"_blank\\\"> Click here to display cell ctx.c in a new tab </a></b>\"\n"
   ]
  },
  {
   "cell_type": "markdown",
   "metadata": {},
   "source": [
    "### 9. Save the entire state of the context"
   ]
  },
  {
   "cell_type": "code",
   "execution_count": 11,
   "metadata": {},
   "outputs": [],
   "source": [
    "# Graph and checksums, as JSON\n",
    "ctx.save_graph(\"basic-example.seamless\")\n",
    "# Checksum-to-buffer cache, as ZIP file\n",
    "ctx.save_zip(\"basic-example.zip\")"
   ]
  },
  {
   "cell_type": "markdown",
   "metadata": {},
   "source": [
    "### 10. Click below to continue in a new notebook...\n",
    "\n",
    "\n",
    "<a href=./load-basic-example.ipynb target=\"_blank\">./load-basic-example.ipynb</a>"
   ]
  },
  {
   "cell_type": "markdown",
   "metadata": {},
   "source": [
    "### 11. Stop the current kernel"
   ]
  },
  {
   "cell_type": "code",
   "execution_count": null,
   "metadata": {},
   "outputs": [
    {
     "name": "stdout",
     "output_type": "stream",
     "text": [
      "Opened the seamless REST server at port 5813\n"
     ]
    }
   ],
   "source": [
    "import asyncio\n",
    "await asyncio.sleep(10)\n",
    "import os\n",
    "os._exit(00)"
   ]
  }
 ],
 "metadata": {
  "interpreter": {
   "hash": "64ad05579657d9c6d4603bd6b9bd1c83970f79cebca7dbdaf99c2b341ee1db00"
  },
  "kernelspec": {
   "display_name": "Python 3.9.1 64-bit ('base': conda)",
   "name": "python3"
  },
  "language_info": {
   "name": "python",
   "version": ""
  },
  "widgets": {
   "application/vnd.jupyter.widget-state+json": {
    "state": {
     "38de88b630ed48499299f694f4268da9": {
      "model_module": "@jupyter-widgets/base",
      "model_module_version": "1.2.0",
      "model_name": "LayoutModel",
      "state": {}
     },
     "43a19472d6ed4fabbf118a475692945b": {
      "model_module": "@jupyter-widgets/controls",
      "model_module_version": "1.5.0",
      "model_name": "IntSliderModel",
      "state": {
       "layout": "IPY_MODEL_53f2326a6d3d42eb8f6d421dc71ad21c",
       "max": 30,
       "min": -10,
       "style": "IPY_MODEL_b58e0b42407043ee9c9fafe7b913e2e8",
       "value": 15
      }
     },
     "53f2326a6d3d42eb8f6d421dc71ad21c": {
      "model_module": "@jupyter-widgets/base",
      "model_module_version": "1.2.0",
      "model_name": "LayoutModel",
      "state": {}
     },
     "724b0c398897496fb614d23f805a4b46": {
      "model_module": "@jupyter-widgets/base",
      "model_module_version": "1.2.0",
      "model_name": "LayoutModel",
      "state": {}
     },
     "b58e0b42407043ee9c9fafe7b913e2e8": {
      "model_module": "@jupyter-widgets/controls",
      "model_module_version": "1.5.0",
      "model_name": "SliderStyleModel",
      "state": {
       "description_width": ""
      }
     },
     "d1d69f96d20b484fa6fa618b2b375584": {
      "model_module": "@jupyter-widgets/controls",
      "model_module_version": "1.5.0",
      "model_name": "SliderStyleModel",
      "state": {
       "description_width": ""
      }
     },
     "e325391e3f9a4bf6979fff5d1584a29b": {
      "model_module": "@jupyter-widgets/controls",
      "model_module_version": "1.5.0",
      "model_name": "IntSliderModel",
      "state": {
       "layout": "IPY_MODEL_38de88b630ed48499299f694f4268da9",
       "max": 30,
       "min": -10,
       "style": "IPY_MODEL_d1d69f96d20b484fa6fa618b2b375584",
       "value": 20
      }
     },
     "f7e8c57cc2684477bc98d9aa0ee63add": {
      "model_module": "@jupyter-widgets/output",
      "model_module_version": "1.0.0",
      "model_name": "OutputModel",
      "state": {
       "layout": "IPY_MODEL_724b0c398897496fb614d23f805a4b46",
       "outputs": [
        {
         "data": {
          "text/plain": "35"
         },
         "metadata": {},
         "output_type": "display_data"
        }
       ]
      }
     }
    },
    "version_major": 2,
    "version_minor": 0
   }
  }
 },
 "nbformat": 4,
 "nbformat_minor": 4
}